{
 "cells": [
  {
   "cell_type": "code",
   "execution_count": null,
   "metadata": {},
   "outputs": [],
   "source": [
    "#default_exp lstm"
   ]
  },
  {
   "cell_type": "code",
   "execution_count": null,
   "metadata": {},
   "outputs": [],
   "source": [
    "#export\n",
    "from nbdev.showdoc import show_doc\n",
    "from ModernArchitecturesFromPyTorch.nb_ScratchToPytorch import *\n",
    "from ModernArchitecturesFromScratch.convolutions_pooling_04 import *"
   ]
  },
  {
   "cell_type": "markdown",
   "metadata": {},
   "source": [
    "# LSTM\n",
    "> Implementing an LSTM. An extension of RNNs that have better long term dependency handling through the introduction of a cell state controlled by forget, update, input and output states.\n",
    "![alt text](data:image/png;base64,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)"
   ]
  },
  {
   "cell_type": "code",
   "execution_count": null,
   "metadata": {},
   "outputs": [],
   "source": [
    "#export\n",
    "class LSTM(nn.Module):\n",
    "    def __init__(self, input_sz, hidden_sz):\n",
    "        \"LSTM Module\"\n",
    "        super().__init__()\n",
    "        self.x_forget_weight = nn.Parameter(get_weight(input_sz, hidden_sz))\n",
    "        self.h_forget_weight = nn.Parameter(get_weight(hidden_sz, hidden_sz))\n",
    "        self.forget_bias = nn.Parameter(torch.zeros(hidden_sz))\n",
    "\n",
    "        self.x_scale_weight = nn.Parameter(get_weight(input_sz, hidden_sz))\n",
    "        self.h_scale_weight = nn.Parameter(get_weight(hidden_sz, hidden_sz))\n",
    "        self.scale_bias = nn.Parameter(torch.zeros(hidden_sz))\n",
    "\n",
    "        self.x_add_weight = nn.Parameter(get_weight(input_sz, hidden_sz))\n",
    "        self.h_add_weight = nn.Parameter(get_weight(hidden_sz, hidden_sz))\n",
    "        self.add_bias = nn.Parameter(torch.zeros(hidden_sz))\n",
    "\n",
    "        self.x_hidden_weight = nn.Parameter(get_weight(input_sz, hidden_sz))\n",
    "        self.h_hidden_weight = nn.Parameter(get_weight(hidden_sz, hidden_sz))\n",
    "        self.hidden_bias = nn.Parameter(torch.zeros(hidden_sz))\n",
    "\n",
    "        self.tanh = nn.Tanh()\n",
    "        self.sig = nn.Sigmoid()\n",
    "        self.hidden_sz = hidden_sz\n",
    "    \n",
    "    def forward(self, inputs, states=None):\n",
    "        hidden, cs = torch.zeros(self.hidden_sz) if states is None else states, torch.zeros(self.hidden_sz) if states is None else states\n",
    "        bs, fs, _ = inputs.shape\n",
    "        hiddens = []\n",
    "\n",
    "        for feat in range(fs):\n",
    "            inp = inputs[:,feat,:]\n",
    "\n",
    "            forget = self.sig(inp @ self.x_forget_weight + hidden @ self.h_forget_weight + self.forget_bias)\n",
    "            addition_scale = self.sig(inp @ self.x_scale_weight + hidden @ self.h_scale_weight + self.scale_bias)\n",
    "            addition_base = self.tanh(inp @ self.x_add_weight + hidden @ self.h_add_weight + self.add_bias)\n",
    "\n",
    "            cs = cs * forget + addition_base * addition_scale\n",
    "            hidden = self.sig(inp @ self.x_hidden_weight + hidden @ self.h_hidden_weight + self.hidden_bias) + self.tanh(cs)\n",
    "\n",
    "            hiddens.append(hidden.unsqueeze(1))\n",
    "        \n",
    "        hiddens = torch.cat(hiddens, dim=1)\n",
    "\n",
    "        return hiddens"
   ]
  },
  {
   "cell_type": "markdown",
   "metadata": {},
   "source": [
    "```python\n",
    "class LSTM(nn.Module):\n",
    "    def __init__(self, input_sz, hidden_sz):\n",
    "        \"LSTM Module\"\n",
    "        super().__init__()\n",
    "        self.x_forget_weight = nn.Parameter(get_weight(input_sz, hidden_sz))\n",
    "        self.h_forget_weight = nn.Parameter(get_weight(hidden_sz, hidden_sz))\n",
    "        self.forget_bias = nn.Parameter(torch.zeros(hidden_sz))\n",
    "\n",
    "        self.x_scale_weight = nn.Parameter(get_weight(input_sz, hidden_sz))\n",
    "        self.h_scale_weight = nn.Parameter(get_weight(hidden_sz, hidden_sz))\n",
    "        self.scale_bias = nn.Parameter(torch.zeros(hidden_sz))\n",
    "\n",
    "        self.x_add_weight = nn.Parameter(get_weight(input_sz, hidden_sz))\n",
    "        self.h_add_weight = nn.Parameter(get_weight(hidden_sz, hidden_sz))\n",
    "        self.add_bias = nn.Parameter(torch.zeros(hidden_sz))\n",
    "\n",
    "        self.x_hidden_weight = nn.Parameter(get_weight(input_sz, hidden_sz))\n",
    "        self.h_hidden_weight = nn.Parameter(get_weight(hidden_sz, hidden_sz))\n",
    "        self.hidden_bias = nn.Parameter(torch.zeros(hidden_sz))\n",
    "\n",
    "        self.tanh = nn.Tanh()\n",
    "        self.sig = nn.Sigmoid()\n",
    "        self.hidden_sz = hidden_sz\n",
    "    \n",
    "    def forward(self, inputs, states=None):\n",
    "        hidden, cs = torch.zeros(self.hidden_sz) if states is None else states, torch.zeros(self.hidden_sz) if states is None else states\n",
    "        bs, fs, _ = inputs.shape\n",
    "        hiddens = []\n",
    "\n",
    "        for feat in range(fs):\n",
    "            inp = inputs[:,feat,:]\n",
    "\n",
    "            forget = self.sig(inp @ self.x_forget_weight + hidden @ self.h_forget_weight + self.forget_bias)\n",
    "            addition_scale = self.sig(inp @ self.x_scale_weight + hidden @ self.h_scale_weight + self.scale_bias)\n",
    "            addition_base = self.tanh(inp @ self.x_add_weight + hidden @ self.h_add_weight + self.add_bias)\n",
    "\n",
    "            cs = cs * forget + addition_base * addition_scale\n",
    "            hidden = self.sig(inp @ self.x_hidden_weight + hidden @ self.h_hidden_weight + self.hidden_bias) + self.tanh(cs)\n",
    "\n",
    "            hiddens.append(hidden.unsqueeze(1))\n",
    "        \n",
    "        hiddens = torch.cat(hiddens, dim=1)\n",
    "\n",
    "        return hiddens\n",
    "```"
   ]
  },
  {
   "cell_type": "code",
   "execution_count": null,
   "metadata": {},
   "outputs": [],
   "source": [
    "lstm = LSTM(16, 10)"
   ]
  },
  {
   "cell_type": "code",
   "execution_count": null,
   "metadata": {},
   "outputs": [
    {
     "data": {
      "text/plain": [
       "torch.Size([8, 32, 10])"
      ]
     },
     "execution_count": null,
     "metadata": {
      "tags": []
     },
     "output_type": "execute_result"
    }
   ],
   "source": [
    "lstm(torch.randn(8,32,16)).shape"
   ]
  },
  {
   "cell_type": "code",
   "execution_count": null,
   "metadata": {},
   "outputs": [
    {
     "name": "stdout",
     "output_type": "stream",
     "text": [
      "Converted LSTM.ipynb to ModernArchitecturesFromPyTorch/nb_LSTM.py\n"
     ]
    }
   ],
   "source": [
    "!python notebook2script.py LSTM.ipynb"
   ]
  },
  {
   "cell_type": "code",
   "execution_count": null,
   "metadata": {},
   "outputs": [],
   "source": []
  }
 ],
 "metadata": {
  "kernelspec": {
   "display_name": "Python 3",
   "language": "python",
   "name": "python3"
  }
 },
 "nbformat": 4,
 "nbformat_minor": 1
}
