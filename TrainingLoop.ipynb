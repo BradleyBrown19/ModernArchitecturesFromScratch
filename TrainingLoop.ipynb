{
 "cells": [
  {
   "cell_type": "code",
   "execution_count": 1,
   "metadata": {},
   "outputs": [],
   "source": [
    "#default_exp training_loop_03"
   ]
  },
  {
   "cell_type": "code",
   "execution_count": 2,
   "metadata": {},
   "outputs": [],
   "source": [
    "#export\n",
    "from ModernArchitecuturesFromScratch.fully_connected_network_02 import *\n",
    "ba2 = __import__(\"ModernArchitecuturesFromScratch.fully_connected_network_02\")\n",
    "\n",
    "_all_ = [\"ba2\"]"
   ]
  },
  {
   "cell_type": "code",
   "execution_count": 3,
   "metadata": {},
   "outputs": [],
   "source": [
    "n_in = 784\n",
    "n_out = 10"
   ]
  },
  {
   "cell_type": "code",
   "execution_count": 4,
   "metadata": {},
   "outputs": [],
   "source": [
    "xt, yt, xv, yv = get_mnist()\n",
    "layers = [Linear(n_in,50, True), ReLU(), Linear(50,n_out, False)]\n",
    "model = Model(layers)"
   ]
  },
  {
   "cell_type": "markdown",
   "metadata": {},
   "source": [
    "# Better Cross Entropy"
   ]
  },
  {
   "cell_type": "code",
   "execution_count": null,
   "metadata": {},
   "outputs": [],
   "source": [
    "#export\n",
    "def log_softmax(inp): return (inp.exp() / inp.exp().sum(-1, keepdim=True)).log()\n",
    "\n",
    "def logsumexp(inp):\n",
    "    a = inp.max(dim=1).values\n",
    "    return a + ((inp-a[:,None]).exp().sum(-1)).log()\n",
    "\n",
    "def log_softmax_improved(inp): \n",
    "    return inp - logsumexp(inp).unsqueeze(-1)"
   ]
  },
  {
   "cell_type": "code",
   "execution_count": null,
   "metadata": {},
   "outputs": [],
   "source": [
    "#export\n",
    "def nll(inp, targ): return -(inp[range(targ.shape[0]), targ.long()].mean())"
   ]
  },
  {
   "cell_type": "code",
   "execution_count": null,
   "metadata": {},
   "outputs": [],
   "source": [
    "#export\n",
    "def cross_entropy(inp, targ): return nll((log_softmax_improved(inp)), targ)"
   ]
  },
  {
   "cell_type": "markdown",
   "metadata": {},
   "source": [
    "# Initial Train Loop"
   ]
  },
  {
   "cell_type": "code",
   "execution_count": null,
   "metadata": {},
   "outputs": [],
   "source": [
    "#export\n",
    "def accuracy(preds, targ): return (torch.argmax(preds, dim=1)==targ).float().mean()"
   ]
  },
  {
   "cell_type": "code",
   "execution_count": null,
   "metadata": {},
   "outputs": [],
   "source": [
    "bs = 64\n",
    "lr = 0.5\n",
    "\n",
    "def fit(epochs, model, loss_func, train, valid):\n",
    "    for epoch in range(epochs):\n",
    "        for batch in range(math.ceil(len(train)//bs)):\n",
    "            start = batch*bs\n",
    "            end = batch*bs + bs\n",
    "            train_batch = train[start:end]\n",
    "            valid_batch = valid[start:end]\n",
    "            \n",
    "            loss = loss_func(model(train_batch), valid_batch)\n",
    "            loss_func.backward(loss, )\n",
    "            model.backward()\n",
    "            \n",
    "            with torch.no_grad():\n",
    "                for l in model.layers:\n",
    "                    if hasattr(l, 'w'):\n",
    "                        l.w -= l.w.g * lr\n",
    "                        l.b   -= l.b.g   * lr\n",
    "                        l.w.g = 0\n",
    "                        l.b.g = 0\n",
    "        print(f'Epoch {epoch+1}, Accuracy: {accuracy(model(xt), yt)}')"
   ]
  },
  {
   "cell_type": "markdown",
   "metadata": {},
   "source": [
    "# Modules "
   ]
  },
  {
   "cell_type": "markdown",
   "metadata": {},
   "source": [
    "# Printing"
   ]
  },
  {
   "cell_type": "code",
   "execution_count": null,
   "metadata": {},
   "outputs": [],
   "source": [
    "#export\n",
    "class SequentialModel():\n",
    "    def __init__(self, *args):\n",
    "        self.layers = list(args)\n",
    "        self.training = True\n",
    "    \n",
    "    def __repr__(self):\n",
    "        res = [\"(Layer\" + str(i+1) + \"): \" + str(m) for i,m in enumerate(self.layers)]\n",
    "        return \"\\n\".join(res)\n",
    "    \n",
    "    def __call__(self, x):\n",
    "        for l in self.layers: x = l(x)\n",
    "        return x\n",
    "    \n",
    "    def backward(self):\n",
    "        for l in reversed(self.layers): l.backward()\n",
    "    \n",
    "    def parameters(self):\n",
    "        for l in self.layers:\n",
    "            for p in l.parameters(): yield p"
   ]
  },
  {
   "cell_type": "code",
   "execution_count": null,
   "metadata": {},
   "outputs": [],
   "source": [
    "def relu_repr(self): return f'ReLU()'\n",
    "setattr(ReLU, '__repr__', relu_repr)\n",
    "\n",
    "def linear_repr(self): return f'Linear({self.w.d.shape[0]}, {self.w.d.shape[1]})'\n",
    "setattr(Linear, '__repr__', linear_repr)\n",
    "\n",
    "def crosssoft_repr(self): return f'CrossEntropyLoss()'\n",
    "setattr(CrossSoft, '__repr__', crosssoft_repr)"
   ]
  },
  {
   "cell_type": "markdown",
   "metadata": {},
   "source": [
    "# Parameters"
   ]
  },
  {
   "cell_type": "code",
   "execution_count": null,
   "metadata": {},
   "outputs": [],
   "source": [
    "#export\n",
    "\n",
    "class Parameter():\n",
    "    def __init__(self, data=None, requires_grad=True):\n",
    "        self.d = torch.Tensor() if data is None else data\n",
    "        self.requires_grad = requires_grad\n",
    "        self.grad = 0.\n",
    "    \n",
    "    def step(self, lr): \n",
    "        self.d -= lr * self.grad\n",
    "    \n",
    "    def zero_grad(self): self.grad = 0.\n",
    "    \n",
    "    def update(self, amount): self.grad = amount\n",
    "        \n",
    "    def __get__(self, instance, owner): return self.d\n",
    "        \n",
    "    def __repr__(self): \n",
    "        return f'Parameter: {self.d.shape}, Requires grad: {self.requires_grad}'"
   ]
  },
  {
   "cell_type": "code",
   "execution_count": null,
   "metadata": {},
   "outputs": [],
   "source": [
    "l_data = torch.zeros([4,6])\n",
    "s_data = torch.randn([4,2])\n",
    "param_l = Parameter(l_data)\n",
    "param_s = Parameter(s_data)"
   ]
  },
  {
   "cell_type": "code",
   "execution_count": null,
   "metadata": {},
   "outputs": [],
   "source": [
    "param_l"
   ]
  },
  {
   "cell_type": "code",
   "execution_count": null,
   "metadata": {},
   "outputs": [],
   "source": [
    "param_s"
   ]
  },
  {
   "cell_type": "code",
   "execution_count": null,
   "metadata": {},
   "outputs": [],
   "source": [
    "#export\n",
    "\n",
    "class Module():\n",
    "    def __init__(self):\n",
    "        self._params = {}\n",
    "        \n",
    "    def __call__(self, *args):\n",
    "        self.args = args\n",
    "        self.out = self.forward(*args)\n",
    "        return self.out\n",
    "\n",
    "    def forward(self): raise Exception(\"Not Implemented\")\n",
    "\n",
    "    def backward(self): self.bwd(self.out, *self.args)  \n",
    "        \n",
    "    def __setattr__(self,k,v):\n",
    "        if isinstance(v, Parameter): self._params[k] = v  \n",
    "        super().__setattr__(k,v)\n",
    "    \n",
    "    def parameters(self):\n",
    "        for p in self._params.values(): yield p"
   ]
  },
  {
   "cell_type": "code",
   "execution_count": null,
   "metadata": {},
   "outputs": [],
   "source": [
    "#export\n",
    "\n",
    "class CrossEntropy(Module):\n",
    "    def forward(self, inp, targ):\n",
    "        return cross_entropy(inp, targ)\n",
    "    \n",
    "    def bwd(self, loss, inp, targ):\n",
    "        inp_s = softmax(inp)\n",
    "        inp_s[range(targ.shape[0]), targ.long()] -= 1\n",
    "        inp.g = inp_s / targ.shape[0]  "
   ]
  },
  {
   "cell_type": "code",
   "execution_count": null,
   "metadata": {},
   "outputs": [],
   "source": [
    "#export\n",
    "\n",
    "class Linear(Module):\n",
    "    def __init__(self, in_d, out_d, relu_after, req_grad=True): \n",
    "        super().__init__()\n",
    "        self.w = Parameter(get_weight(in_d, out_d, relu_after), req_grad)\n",
    "        self.b = Parameter(torch.zeros(out_d), req_grad)\n",
    "\n",
    "    def forward(self, xb): return xb @ self.w.d + self.b.d\n",
    "\n",
    "    def bwd(self, out, inp):\n",
    "        inp.g = out.g @ self.w.d.t()\n",
    "        self.w.update(inp.t() @ out.g)\n",
    "        self.b.update(out.g.sum(0))\n",
    "    \n",
    "    def __repr__(self): return f'Linear({self.w.d.shape[0]}, {self.w.d.shape[1]})'"
   ]
  },
  {
   "cell_type": "code",
   "execution_count": null,
   "metadata": {},
   "outputs": [],
   "source": [
    "#export\n",
    "\n",
    "class ReLU(Module):\n",
    "    def forward(self, x): return x.clamp_min_(0.)-0.5\n",
    "    def bwd(self, out, inp):\n",
    "        inp.g = (inp>0).float() * out.g\n",
    "    def __repr__(self): return f'ReLU()'"
   ]
  },
  {
   "cell_type": "code",
   "execution_count": null,
   "metadata": {},
   "outputs": [],
   "source": [
    "lin = Linear(3, 1, False)"
   ]
  },
  {
   "cell_type": "code",
   "execution_count": null,
   "metadata": {},
   "outputs": [],
   "source": [
    "lin._params"
   ]
  },
  {
   "cell_type": "code",
   "execution_count": null,
   "metadata": {},
   "outputs": [],
   "source": [
    "params = iter(lin.parameters())"
   ]
  },
  {
   "cell_type": "code",
   "execution_count": null,
   "metadata": {},
   "outputs": [],
   "source": [
    "next(params)"
   ]
  },
  {
   "cell_type": "code",
   "execution_count": null,
   "metadata": {},
   "outputs": [],
   "source": [
    "model = SequentialModel(Linear(n_in,50, True), ReLU(), Linear(50,n_out, False))"
   ]
  },
  {
   "cell_type": "code",
   "execution_count": null,
   "metadata": {},
   "outputs": [],
   "source": [
    "model"
   ]
  },
  {
   "cell_type": "code",
   "execution_count": null,
   "metadata": {},
   "outputs": [],
   "source": [
    "for p in model.parameters(): print(p)"
   ]
  },
  {
   "cell_type": "markdown",
   "metadata": {},
   "source": [
    "# Optimizer"
   ]
  },
  {
   "cell_type": "code",
   "execution_count": null,
   "metadata": {},
   "outputs": [],
   "source": [
    "#export\n",
    "class Optimizer():\n",
    "    def __init__(self, params, lr): self.params, self.lr = list(params), lr\n",
    "        \n",
    "    def step(self): \n",
    "        for p in self.params: p.step(self.lr)\n",
    "    \n",
    "    def zero_grad(self): \n",
    "        for p in self.params: p.zero_grad()"
   ]
  },
  {
   "cell_type": "code",
   "execution_count": null,
   "metadata": {},
   "outputs": [],
   "source": [
    "optim = Optimizer(model.parameters(), 0.5)"
   ]
  },
  {
   "cell_type": "code",
   "execution_count": null,
   "metadata": {},
   "outputs": [],
   "source": [
    "bs = 64\n",
    "\n",
    "def fit(epochs, model, optim, loss_func, train, valid):\n",
    "    for epoch in range(epochs):\n",
    "        for batch in range(math.ceil(len(train)//bs)):\n",
    "            start = batch*bs\n",
    "            end = batch*bs + bs\n",
    "            train_batch = train[start:end]\n",
    "            valid_batch = valid[start:end]\n",
    "            \n",
    "            loss = loss_func(model(train_batch), valid_batch)\n",
    "            loss_func.backward()\n",
    "            model.backward()\n",
    "            \n",
    "            optim.step()\n",
    "            optim.zero_grad()\n",
    "            \n",
    "        print(f'Epoch {epoch+1}, Accuracy: {accuracy(model(xt), yt)}')"
   ]
  },
  {
   "cell_type": "code",
   "execution_count": null,
   "metadata": {},
   "outputs": [],
   "source": [
    "fit(3, model, optim, CrossEntropy(), xt, yt)"
   ]
  },
  {
   "cell_type": "code",
   "execution_count": null,
   "metadata": {},
   "outputs": [],
   "source": [
    "#export\n",
    "def get_model(lr):\n",
    "    model = SequentialModel(Linear(784, 50, True), ReLU(), Linear(50, 10, False)) \n",
    "    loss_func = CrossEntropy()\n",
    "    optimizer = Optimizer(model.parameters(), lr)\n",
    "    return model, optimizer, loss_func"
   ]
  },
  {
   "cell_type": "markdown",
   "metadata": {},
   "source": [
    "# Databunch"
   ]
  },
  {
   "cell_type": "code",
   "execution_count": null,
   "metadata": {},
   "outputs": [],
   "source": [
    "#export\n",
    "class Dataset():\n",
    "    \n",
    "    def __init__(self, x, y): self.x, self.y = x, y\n",
    "        \n",
    "    def __getitem__(self, i): return self.x[i], self.y[i]\n",
    "    \n",
    "    def __len__(self): return len(self.x)"
   ]
  },
  {
   "cell_type": "code",
   "execution_count": null,
   "metadata": {},
   "outputs": [],
   "source": [
    "class DataLoader():\n",
    "    def __init__(self, ds, bs): self.ds, self.bs = ds,bs\n",
    "    def __iter__(self): \n",
    "        for i in range(0, len(self.ds), self.bs): yield self.ds[i:i+self.bs]"
   ]
  },
  {
   "cell_type": "code",
   "execution_count": null,
   "metadata": {},
   "outputs": [],
   "source": [
    "ds = Dataset(xt, yt)\n",
    "dl = DataLoader(ds, bs)"
   ]
  },
  {
   "cell_type": "code",
   "execution_count": null,
   "metadata": {},
   "outputs": [],
   "source": [
    "def fit(epochs, model, optim, loss_func, data_loader):\n",
    "    for epoch in range(epochs):\n",
    "        for xb, yb in data_loader:\n",
    "            loss = loss_func(model(xb), yb)\n",
    "            loss_func.backward()\n",
    "            model.backward()\n",
    "            \n",
    "            optim.step()\n",
    "            optim.zero_grad()\n",
    "            \n",
    "        print(f'Epoch {epoch+1}, Accuracy: {accuracy(model(xt), yt)}')"
   ]
  },
  {
   "cell_type": "code",
   "execution_count": null,
   "metadata": {},
   "outputs": [],
   "source": [
    "m, o, lf = get_model(0.5)\n",
    "fit(3, m, o, lf, dl)"
   ]
  },
  {
   "cell_type": "markdown",
   "metadata": {},
   "source": [
    "# Random Data"
   ]
  },
  {
   "cell_type": "code",
   "execution_count": null,
   "metadata": {},
   "outputs": [],
   "source": [
    "#export\n",
    "class Batcher():\n",
    "    def __init__(self, ds, bs, random): self.n, self.bs, self.rand = len(ds), bs, random\n",
    "    def __iter__(self):\n",
    "        self.idxs = torch.randperm(self.n) if self.rand else torch.arange(self.n)\n",
    "        for i in range(0, self.n, self.bs): yield self.idxs[i:i+self.bs]"
   ]
  },
  {
   "cell_type": "code",
   "execution_count": null,
   "metadata": {},
   "outputs": [],
   "source": [
    "small_ds = Dataset(*ds[:10])"
   ]
  },
  {
   "cell_type": "code",
   "execution_count": null,
   "metadata": {},
   "outputs": [],
   "source": [
    "random = Batcher(small_ds, 4, True)\n",
    "not_random = Batcher(small_ds, 4, False)"
   ]
  },
  {
   "cell_type": "code",
   "execution_count": null,
   "metadata": {},
   "outputs": [],
   "source": [
    "[r for r in random]"
   ]
  },
  {
   "cell_type": "code",
   "execution_count": null,
   "metadata": {},
   "outputs": [],
   "source": [
    "[nr for nr in not_random]"
   ]
  },
  {
   "cell_type": "code",
   "execution_count": null,
   "metadata": {},
   "outputs": [],
   "source": [
    "#export\n",
    "def collate(b):\n",
    "    xb, yb = zip(*b)\n",
    "    return torch.stack(xb), torch.stack(yb)\n",
    "    \n",
    "    \n",
    "class DataLoader():\n",
    "    def __init__(self, ds, batcher, collate_fcn): self.ds, self.batcher, self.collate_fcn = ds, batcher, collate_fcn\n",
    "    def __iter__(self): \n",
    "        for b in self.batcher: yield self.collate_fcn([self.ds[i] for i in b])\n",
    "    def __len__(self): return len(self.ds)"
   ]
  },
  {
   "cell_type": "markdown",
   "metadata": {},
   "source": [
    "# Validation"
   ]
  },
  {
   "cell_type": "code",
   "execution_count": null,
   "metadata": {},
   "outputs": [],
   "source": [
    "#export\n",
    "def fit(epochs, model, optim, loss_func, train, valid):\n",
    "    for epoch in range(epochs):\n",
    "        \n",
    "        model.training = True\n",
    "        for xb, yb in train:\n",
    "            loss = loss_func(model(xb), yb)\n",
    "            loss_func.backward()\n",
    "            model.backward()\n",
    "            \n",
    "            optim.step()\n",
    "            optim.zero_grad()\n",
    "        \n",
    "        model.training = False\n",
    "        acc, loss, epochs = 0,0,0\n",
    "        for xb, yb in valid:\n",
    "            pred = model(xb)\n",
    "            acc += accuracy(pred, yb)\n",
    "            loss += loss_func(pred, yb)\n",
    "            epochs += 1\n",
    "        acc /= epochs\n",
    "        loss /= epochs\n",
    "            \n",
    "        print(f'Epoch {epoch+1}, Accuracy: {acc}, Loss: {loss}')"
   ]
  },
  {
   "cell_type": "code",
   "execution_count": null,
   "metadata": {},
   "outputs": [],
   "source": [
    "#export\n",
    "def get_datasets():\n",
    "    xt, yt, xv, yv = get_mnist()\n",
    "    tr = Dataset(xt, yt)\n",
    "    val = Dataset(xv, yv)\n",
    "    train = DataLoader(tr, Batcher(tr, 64, True), collate)\n",
    "    valid = DataLoader(val, Batcher(val, 64, False), collate)\n",
    "    return train, valid"
   ]
  },
  {
   "cell_type": "code",
   "execution_count": null,
   "metadata": {},
   "outputs": [],
   "source": [
    "train, valid = get_datasets()\n",
    "m, o, lf = get_model(0.1)\n",
    "fit(3, m, o, lf, train, valid)"
   ]
  },
  {
   "cell_type": "code",
   "execution_count": null,
   "metadata": {},
   "outputs": [],
   "source": []
  }
 ],
 "metadata": {
  "kernelspec": {
   "display_name": "Python 3",
   "language": "python",
   "name": "python3"
  },
  "language_info": {
   "codemirror_mode": {
    "name": "ipython",
    "version": 3
   },
   "file_extension": ".py",
   "mimetype": "text/x-python",
   "name": "python",
   "nbconvert_exporter": "python",
   "pygments_lexer": "ipython3",
   "version": "3.7.3"
  }
 },
 "nbformat": 4,
 "nbformat_minor": 2
}
