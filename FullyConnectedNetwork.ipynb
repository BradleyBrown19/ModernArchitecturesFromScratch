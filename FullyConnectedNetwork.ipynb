{
 "cells": [
  {
   "cell_type": "code",
   "execution_count": null,
   "metadata": {},
   "outputs": [],
   "source": [
    "#default_exp fully_connected_network_02"
   ]
  },
  {
   "cell_type": "markdown",
   "metadata": {},
   "source": [
    "# Fully Connected Network\n",
    "> Implementing backward and forward passes to train a simple fully connected network"
   ]
  },
  {
   "cell_type": "code",
   "execution_count": null,
   "metadata": {},
   "outputs": [],
   "source": [
    "#export\n",
    "from ModernArchitecturesFromScratch.basic_operations_01 import *\n",
    "from nbdev.showdoc import *"
   ]
  },
  {
   "cell_type": "markdown",
   "metadata": {},
   "source": [
    "## Data Loading"
   ]
  },
  {
   "cell_type": "code",
   "execution_count": null,
   "metadata": {},
   "outputs": [
    {
     "name": "stdout",
     "output_type": "stream",
     "text": [
      "Near zero: 0.00012300178059376776\n"
     ]
    },
    {
     "data": {
      "image/png": "[encoded data removed]",
      "text/plain": [
       "<Figure size 432x288 with 1 Axes>"
      ]
     },
     "metadata": {
      "needs_background": "light"
     },
     "output_type": "display_data"
    }
   ],
   "source": [
    "#hide\n",
    "xt,yt,xv,yv = get_mnist()\n",
    "\n",
    "n_out = (yt.max()+1).item()\n",
    "n_in = (xt[0].shape)[0]\n",
    "test_near_zero(xt.mean())\n",
    "show_im(xt)"
   ]
  },
  {
   "cell_type": "markdown",
   "metadata": {},
   "source": [
    "## Initialization"
   ]
  },
  {
   "cell_type": "code",
   "execution_count": null,
   "metadata": {},
   "outputs": [],
   "source": [
    "#export\n",
    "\n",
    "#Kaiming initialization with fan_in\n",
    "def get_weight(in_d, out_d, relu_after):\n",
    "    \"Returns weight matrix of size `in_d` x `out_d` initialized using Kaiming initialization\"\n",
    "    if relu_after: return torch.randn(in_d, out_d) * math.sqrt(2. / in_d)\n",
    "    else: return torch.randn(in_d, out_d) / math.sqrt(in_d)"
   ]
  },
  {
   "cell_type": "markdown",
   "metadata": {},
   "source": [
    "Please see: https://arxiv.org/abs/1502.01852 for more details and explanation on Kaiming initialisation."
   ]
  },
  {
   "cell_type": "code",
   "execution_count": null,
   "metadata": {},
   "outputs": [
    {
     "data": {
      "text/plain": [
       "tensor([[ 0.1757,  0.2658, -0.8053,  0.5641, -0.9632],\n",
       "        [-0.6773,  0.5323,  1.2266, -1.5374, -0.1655],\n",
       "        [-0.0217, -1.1855,  0.1367,  1.1296,  0.1197],\n",
       "        [ 0.4580,  0.3639,  0.4997,  0.0106,  0.4932]])"
      ]
     },
     "execution_count": null,
     "metadata": {},
     "output_type": "execute_result"
    }
   ],
   "source": [
    "get_weight(4,5, True)"
   ]
  },
  {
   "cell_type": "markdown",
   "metadata": {},
   "source": [
    "## Forward Pass"
   ]
  },
  {
   "cell_type": "code",
   "execution_count": null,
   "metadata": {},
   "outputs": [],
   "source": [
    "#export   \n",
    "#hide\n",
    "def linear(x, w, b): \n",
    "    \"Basic linear layer\"\n",
    "    return x @ w + b"
   ]
  },
  {
   "cell_type": "code",
   "execution_count": null,
   "metadata": {},
   "outputs": [],
   "source": [
    "#export\n",
    "#hide\n",
    "def relu(x): \n",
    "    \"ReLU activation function\"\n",
    "    return x.clamp_min(0.) - 0."
   ]
  },
  {
   "cell_type": "code",
   "execution_count": null,
   "metadata": {},
   "outputs": [],
   "source": [
    "#export\n",
    "#hide\n",
    "def lin_rel(x, w, b): \n",
    "    \"Linear layer followed by ReLU activation on `x` with weight `w` and bias `b`\"\n",
    "    return relu(linear(x, w, b))"
   ]
  },
  {
   "cell_type": "code",
   "execution_count": null,
   "metadata": {},
   "outputs": [],
   "source": [
    "#export\n",
    "#hide\n",
    "def softmax(x): \n",
    "    \"Softmax activation function\"\n",
    "    return torch.exp(x) / torch.sum(torch.exp(x.unsqueeze(-1)), dim=1)"
   ]
  },
  {
   "cell_type": "code",
   "execution_count": null,
   "metadata": {},
   "outputs": [],
   "source": [
    "#hide\n",
    "n_in = 28**2\n",
    "n_out = 10\n",
    "\n",
    "w1 = get_weight(n_in, 50, True)\n",
    "w2 = get_weight(50, n_out, False)\n",
    "b1 = torch.zeros(50)\n",
    "b2 = torch.zeros(n_out)"
   ]
  },
  {
   "cell_type": "code",
   "execution_count": null,
   "metadata": {},
   "outputs": [],
   "source": [
    "#hide\n",
    "def forward_pass(xb):\n",
    "    xb = lin_rel(xb, w1, b1)\n",
    "    xb = linear(xb, w2, b2)\n",
    "    return xb"
   ]
  },
  {
   "cell_type": "code",
   "execution_count": null,
   "metadata": {},
   "outputs": [],
   "source": [
    "#hide\n",
    "result = forward_pass(xt)"
   ]
  },
  {
   "cell_type": "code",
   "execution_count": null,
   "metadata": {},
   "outputs": [
    {
     "name": "stdout",
     "output_type": "stream",
     "text": [
      "Mean: 0.2984241247177124\n",
      "Std: 1.1476637125015259\n"
     ]
    }
   ],
   "source": [
    "#hide\n",
    "get_stats(result)"
   ]
  },
  {
   "cell_type": "markdown",
   "metadata": {},
   "source": [
    "## Loss"
   ]
  },
  {
   "cell_type": "code",
   "execution_count": null,
   "metadata": {},
   "outputs": [],
   "source": [
    "#export\n",
    "#hide\n",
    "def mse_loss(xb, yb): \n",
    "    \"Mean Square Error loss\"\n",
    "    return (xb.squeeze(-1) - yb).pow(2).mean()"
   ]
  },
  {
   "cell_type": "code",
   "execution_count": null,
   "metadata": {},
   "outputs": [],
   "source": [
    "eps = 1e-9\n",
    "#hide\n",
    "def cross_entropy(xb, targ): \n",
    "    \"Cross Entropy Loss\"\n",
    "    return -( (xb + eps).log()[range(targ.shape[0]), targ.long()].mean() )"
   ]
  },
  {
   "cell_type": "markdown",
   "metadata": {},
   "source": [
    "## Backwards Pass"
   ]
  },
  {
   "cell_type": "code",
   "execution_count": null,
   "metadata": {},
   "outputs": [],
   "source": [
    "def mse_grad(inp, targ):\n",
    "    \"Grad for mean squared error\"\n",
    "    inp.g = 2. * (inp.squeeze(-1) - targ).unsqueeze(-1) / inp.shape[0]"
   ]
  },
  {
   "cell_type": "code",
   "execution_count": null,
   "metadata": {},
   "outputs": [],
   "source": [
    "def rel_grad(inp, out):\n",
    "    \"Grad for ReLU layer\"\n",
    "    inp.g = out.g * (inp > 0).float()"
   ]
  },
  {
   "cell_type": "code",
   "execution_count": null,
   "metadata": {},
   "outputs": [],
   "source": [
    "def lin_grad(inp, out, w, b):\n",
    "    \"Grad for linear layer\"\n",
    "    inp.g = out.g @ w.t()\n",
    "    w.g = (inp.unsqueeze(-1) * out.g.unsqueeze(1)).sum(0)\n",
    "    b.g = out.g.sum(0)"
   ]
  },
  {
   "cell_type": "code",
   "execution_count": null,
   "metadata": {},
   "outputs": [],
   "source": [
    "def softmax_cross_grad(inp, targ):\n",
    "    \"Grad for softmax and cross entropy loss\"\n",
    "    targ = torch.nn.functional.one_hot(targ.to(torch.int64), 10)\n",
    "    inp_s = softmax(inp)\n",
    "    inp.g = ( inp_s - targ ) / targ.shape[0]"
   ]
  },
  {
   "cell_type": "markdown",
   "metadata": {},
   "source": [
    "Putting it all together..."
   ]
  },
  {
   "cell_type": "code",
   "execution_count": null,
   "metadata": {},
   "outputs": [],
   "source": [
    "def full_pass(xb, targ):\n",
    "    l1 = linear(xb, w1, b1)\n",
    "    l1_r = relu(l1)\n",
    "    l2 = linear(l1_r, w2, b2)\n",
    "    \n",
    "    soft = softmax(l2)\n",
    "    \n",
    "    loss = cross_entropy(soft, targ)\n",
    "    \n",
    "    softmax_cross_grad(l2, targ)\n",
    "    lin_grad(l1_r, l2, w2, b2)\n",
    "    rel_grad(l1, l1_r)\n",
    "    lin_grad(xb, l1, w1, b1)\n",
    "    \n",
    "    return loss"
   ]
  },
  {
   "cell_type": "code",
   "execution_count": null,
   "metadata": {},
   "outputs": [
    {
     "data": {
      "text/plain": [
       "tensor(2.6315)"
      ]
     },
     "execution_count": null,
     "metadata": {},
     "output_type": "execute_result"
    }
   ],
   "source": [
    "loss = full_pass(xt, yt)\n",
    "loss"
   ]
  },
  {
   "cell_type": "code",
   "execution_count": null,
   "metadata": {},
   "outputs": [],
   "source": [
    "#hide\n",
    "w1g = w1.g.clone()\n",
    "w2g = w2.g.clone()\n",
    "b1g = b1.g.clone()\n",
    "b2g = b2.g.clone()\n",
    "ig  = xt.g.clone()"
   ]
  },
  {
   "cell_type": "code",
   "execution_count": null,
   "metadata": {},
   "outputs": [],
   "source": [
    "#hide\n",
    "xt2 = xt.clone().requires_grad_(True)\n",
    "w12 = w1.clone().requires_grad_(True)\n",
    "w22 = w2.clone().requires_grad_(True)\n",
    "b12 = b1.clone().requires_grad_(True)\n",
    "b22 = b2.clone().requires_grad_(True)"
   ]
  },
  {
   "cell_type": "code",
   "execution_count": null,
   "metadata": {},
   "outputs": [],
   "source": [
    "#hide\n",
    "def auto_full_pass(xb, targ):\n",
    "    l1 = linear(xb, w12, b12)\n",
    "    l1_r = relu(l1)\n",
    "    l2 = linear(l1_r, w22, b22)\n",
    "    soft = softmax(l2)\n",
    "    \n",
    "    loss = cross_entropy(soft, targ)\n",
    "    \n",
    "    return loss"
   ]
  },
  {
   "cell_type": "code",
   "execution_count": null,
   "metadata": {},
   "outputs": [],
   "source": [
    "#hide\n",
    "loss = auto_full_pass(xt2, yt)"
   ]
  },
  {
   "cell_type": "code",
   "execution_count": null,
   "metadata": {},
   "outputs": [],
   "source": [
    "#hide\n",
    "loss.backward()"
   ]
  },
  {
   "cell_type": "code",
   "execution_count": null,
   "metadata": {},
   "outputs": [
    {
     "name": "stdout",
     "output_type": "stream",
     "text": [
      "good\n",
      "good\n",
      "good\n",
      "good\n",
      "good\n"
     ]
    }
   ],
   "source": [
    "#hide\n",
    "test_near(w22.grad, w2g)\n",
    "test_near(b22.grad, b2g)\n",
    "test_near(w12.grad, w1g)\n",
    "test_near(b12.grad, b1g)\n",
    "test_near(xt2.grad, ig )"
   ]
  },
  {
   "cell_type": "markdown",
   "metadata": {},
   "source": [
    "## Refactoring"
   ]
  },
  {
   "cell_type": "code",
   "execution_count": null,
   "metadata": {},
   "outputs": [],
   "source": [
    "#export\n",
    "class Module():\n",
    "    \"Base class for every layer operation in a sequential network\"\n",
    "    def __call__(self, *args):\n",
    "        \"Executes forward pass of module and stores result in `self.out` for backwards pass\"\n",
    "        self.args = args\n",
    "        self.out = self.forward(*args)\n",
    "        return self.out\n",
    "    \n",
    "    def forward(self): \n",
    "        \"Executes desired operation of module\"\n",
    "        raise Exception(\"Not Implemented\")\n",
    "        \n",
    "    def backward(self): \n",
    "        \"Calls backwards method to find gradient with stored output of layer\"\n",
    "        self.bwd(self.out, *self.args)"
   ]
  },
  {
   "cell_type": "code",
   "execution_count": null,
   "metadata": {},
   "outputs": [],
   "source": [
    "#export\n",
    "class Linear(Module):\n",
    "    def __init__(self, in_d, out_d, final): \n",
    "        \"Initialize weight using 'get_weight' and bias to 0 for linear operation\"\n",
    "        self.w, self.b = get_weight(in_d, out_d, final), torch.zeros(out_d)\n",
    "\n",
    "    def forward(self, xb): \n",
    "        \"Perform forward linear pass\"\n",
    "        return xb @ self.w + self.b\n",
    "\n",
    "    def bwd(self, out, inp):\n",
    "        \"Gradient with respect to the forward linear layer\"\n",
    "        inp.g = out.g @ self.w.t()\n",
    "        self.w.g = inp.t() @ out.g\n",
    "        self.b.g = out.g.sum(0)"
   ]
  },
  {
   "cell_type": "code",
   "execution_count": null,
   "metadata": {},
   "outputs": [],
   "source": [
    "#export\n",
    "class ReLU(Module):\n",
    "    def forward(self, x): \n",
    "        \"Set all activations to have a minimum of zero, subtract 0.5 to maintain mean of 0\"\n",
    "        return x.clamp_min_(0.)-0.5\n",
    "    \n",
    "    def bwd(self, out, inp): \n",
    "        \"Backward with respect to the ReLU layer\"\n",
    "        inp.g = (inp>0).float() * out.g"
   ]
  },
  {
   "cell_type": "code",
   "execution_count": null,
   "metadata": {},
   "outputs": [],
   "source": [
    "#export\n",
    "eps = 1e-9\n",
    "class CrossSoft(Module):\n",
    "    def forward(self, inp, targ):\n",
    "        \"Calls `soft_forward` and `cross_loss` on inp compared with `targ`\"\n",
    "        softed = self.soft_forward(inp)\n",
    "        return self.cross_loss(softed, targ)\n",
    "    \n",
    "    def soft_forward(self, x): \n",
    "        \"Implements softmax activation function on `x`\"\n",
    "        return torch.exp(x) / torch.sum(torch.exp(x.unsqueeze(-1)), dim=1)\n",
    "        \n",
    "    def cross_loss(self, xb, targ): \n",
    "        \"Cross entropy loss of `xb` compared to `targ`\"\n",
    "        return -( (xb + eps).log()[range(targ.shape[0]), targ.long()].mean() )\n",
    "    \n",
    "    def bwd(self, loss, inp, targ):\n",
    "        \"Gradient with respect to both softmax and cross entropy loss\"\n",
    "        targ = torch.nn.functional.one_hot(targ.to(torch.int64), 10)\n",
    "        inp_s = softmax(inp)\n",
    "        inp.g = ( inp_s - targ ) / targ.shape[0]"
   ]
  },
  {
   "cell_type": "code",
   "execution_count": 1,
   "metadata": {},
   "outputs": [],
   "source": [
    "#export\n",
    "#hide\n",
    "class Model():\n",
    "    def __init__(self, layers):\n",
    "        self.layers = layers\n",
    "        self.learner = None\n",
    "        for lay in self.layers:\n",
    "            lay.learner = None\n",
    "    \n",
    "    def set_learner(self, learner):\n",
    "        for lay in self.layers:\n",
    "            lay.learner = learner\n",
    "\n",
    "    def __call__(self, x):\n",
    "        for l in self.layers: x = l(x)\n",
    "        return x\n",
    "\n",
    "    def backward(self):\n",
    "        for l in reversed(self.layers): l.backward()"
   ]
  },
  {
   "cell_type": "markdown",
   "metadata": {},
   "source": [
    "### Testing Output and Gradients"
   ]
  },
  {
   "cell_type": "code",
   "execution_count": null,
   "metadata": {},
   "outputs": [],
   "source": [
    "layers = [Linear(784,50,True), ReLU(), Linear(50,10, False)]\n",
    "loss_func = CrossSoft()\n",
    "model = Model(layers)\n",
    "loss = loss_func(model(xt),yt)"
   ]
  },
  {
   "cell_type": "code",
   "execution_count": null,
   "metadata": {},
   "outputs": [],
   "source": [
    "loss_func.backward()\n",
    "model.backward()"
   ]
  },
  {
   "cell_type": "code",
   "execution_count": null,
   "metadata": {},
   "outputs": [],
   "source": [
    "w1g = model.layers[0].w.g.clone()\n",
    "w2g = model.layers[2].w.g.clone()\n",
    "b1g = model.layers[0].b.g.clone()\n",
    "b2g = model.layers[2].b.g.clone()\n",
    "ig  = xt.g.clone()"
   ]
  },
  {
   "cell_type": "code",
   "execution_count": null,
   "metadata": {},
   "outputs": [],
   "source": [
    "xt = xt.clone().requires_grad_(True)\n",
    "model.layers[0].w = model.layers[0].w.clone().requires_grad_(True)\n",
    "model.layers[0].b = model.layers[0].b.clone().requires_grad_(True)\n",
    "model.layers[2].w = model.layers[2].w.clone().requires_grad_(True)\n",
    "model.layers[2].b = model.layers[2].b.clone().requires_grad_(True)"
   ]
  },
  {
   "cell_type": "code",
   "execution_count": null,
   "metadata": {},
   "outputs": [
    {
     "name": "stdout",
     "output_type": "stream",
     "text": [
      "CPU times: user 232 ms, sys: 32 ms, total: 264 ms\n",
      "Wall time: 75.1 ms\n"
     ]
    }
   ],
   "source": [
    "%time loss = loss_func(model(xt), yt)"
   ]
  },
  {
   "cell_type": "code",
   "execution_count": null,
   "metadata": {},
   "outputs": [
    {
     "name": "stdout",
     "output_type": "stream",
     "text": [
      "CPU times: user 764 ms, sys: 88.2 ms, total: 852 ms\n",
      "Wall time: 144 ms\n"
     ]
    }
   ],
   "source": [
    "%time loss.backward()"
   ]
  },
  {
   "cell_type": "code",
   "execution_count": null,
   "metadata": {},
   "outputs": [
    {
     "name": "stdout",
     "output_type": "stream",
     "text": [
      "good\n",
      "good\n",
      "good\n",
      "good\n",
      "good\n"
     ]
    }
   ],
   "source": [
    "test_near(w2g, model.layers[2].w.grad)\n",
    "test_near(b2g, model.layers[2].b.grad)\n",
    "test_near(w1g, model.layers[0].w.grad)\n",
    "test_near(b1g, model.layers[0].b.grad)\n",
    "test_near(ig, xt.grad)"
   ]
  },
  {
   "cell_type": "code",
   "execution_count": null,
   "metadata": {},
   "outputs": [],
   "source": []
  }
 ],
 "metadata": {
  "kernelspec": {
   "display_name": "Python 3",
   "language": "python",
   "name": "python3"
  },
  "language_info": {
   "codemirror_mode": {
    "name": "ipython",
    "version": 3
   },
   "file_extension": ".py",
   "mimetype": "text/x-python",
   "name": "python",
   "nbconvert_exporter": "python",
   "pygments_lexer": "ipython3",
   "version": "3.7.2"
  }
 },
 "nbformat": 4,
 "nbformat_minor": 1
}
