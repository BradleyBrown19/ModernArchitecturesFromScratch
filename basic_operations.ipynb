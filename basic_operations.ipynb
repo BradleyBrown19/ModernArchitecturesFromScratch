{
 "cells": [
  {
   "cell_type": "code",
   "execution_count": null,
   "metadata": {},
   "outputs": [],
   "source": [
    "#default_exp basic_operations_01"
   ]
  },
  {
   "cell_type": "markdown",
   "metadata": {},
   "source": [
    "# Basic Operations\n",
    "\n",
    "> Fundamental operations and helper functions in use throughout the library"
   ]
  },
  {
   "cell_type": "code",
   "execution_count": null,
   "metadata": {},
   "outputs": [
    {
     "name": "stdout",
     "output_type": "stream",
     "text": [
      "Requirement already satisfied: fastai in /anaconda3/lib/python3.7/site-packages (1.0.59)\n",
      "Requirement already satisfied: Pillow in /anaconda3/lib/python3.7/site-packages (from fastai) (6.2.1)\n",
      "Requirement already satisfied: requests in /anaconda3/lib/python3.7/site-packages (from fastai) (2.22.0)\n",
      "Requirement already satisfied: pyyaml in /anaconda3/lib/python3.7/site-packages (from fastai) (5.1.1)\n",
      "Requirement already satisfied: torchvision in /anaconda3/lib/python3.7/site-packages (from fastai) (0.3.0)\n",
      "Requirement already satisfied: numpy>=1.15 in /anaconda3/lib/python3.7/site-packages (from fastai) (1.17.3)\n",
      "Requirement already satisfied: pynvx>=1.0.0; platform_system == \"Darwin\" in /anaconda3/lib/python3.7/site-packages (from fastai) (1.0.0)\n",
      "Requirement already satisfied: matplotlib in /anaconda3/lib/python3.7/site-packages (from fastai) (3.1.1)\n",
      "Requirement already satisfied: bottleneck in /anaconda3/lib/python3.7/site-packages (from fastai) (1.2.1)\n",
      "Requirement already satisfied: beautifulsoup4 in /anaconda3/lib/python3.7/site-packages (from fastai) (4.8.1)\n",
      "Requirement already satisfied: scipy in /anaconda3/lib/python3.7/site-packages (from fastai) (1.3.1)\n",
      "Requirement already satisfied: pandas in /anaconda3/lib/python3.7/site-packages (from fastai) (0.24.2)\n",
      "Requirement already satisfied: spacy>=2.0.18 in /anaconda3/lib/python3.7/site-packages (from fastai) (2.2.2)\n",
      "Requirement already satisfied: torch>=1.0.0 in /anaconda3/lib/python3.7/site-packages (from fastai) (1.3.0)\n",
      "Requirement already satisfied: packaging in /anaconda3/lib/python3.7/site-packages (from fastai) (19.2)\n",
      "Requirement already satisfied: fastprogress>=0.1.19 in /anaconda3/lib/python3.7/site-packages (from fastai) (0.1.21)\n",
      "Requirement already satisfied: numexpr in /anaconda3/lib/python3.7/site-packages (from fastai) (2.7.0)\n",
      "Requirement already satisfied: nvidia-ml-py3 in /anaconda3/lib/python3.7/site-packages (from fastai) (7.352.0)\n",
      "Requirement already satisfied: urllib3!=1.25.0,!=1.25.1,<1.26,>=1.21.1 in /anaconda3/lib/python3.7/site-packages (from requests->fastai) (1.25.6)\n",
      "Requirement already satisfied: chardet<3.1.0,>=3.0.2 in /anaconda3/lib/python3.7/site-packages (from requests->fastai) (3.0.4)\n",
      "Requirement already satisfied: idna<2.9,>=2.5 in /anaconda3/lib/python3.7/site-packages (from requests->fastai) (2.8)\n",
      "Requirement already satisfied: certifi>=2017.4.17 in /anaconda3/lib/python3.7/site-packages (from requests->fastai) (2019.6.16)\n",
      "Requirement already satisfied: six in /anaconda3/lib/python3.7/site-packages (from torchvision->fastai) (1.12.0)\n",
      "Requirement already satisfied: cycler>=0.10 in /anaconda3/lib/python3.7/site-packages (from matplotlib->fastai) (0.10.0)\n",
      "Requirement already satisfied: python-dateutil>=2.1 in /anaconda3/lib/python3.7/site-packages (from matplotlib->fastai) (2.8.1)\n",
      "Requirement already satisfied: kiwisolver>=1.0.1 in /anaconda3/lib/python3.7/site-packages (from matplotlib->fastai) (1.1.0)\n",
      "Requirement already satisfied: pyparsing!=2.0.4,!=2.1.2,!=2.1.6,>=2.0.1 in /anaconda3/lib/python3.7/site-packages (from matplotlib->fastai) (2.4.4)\n",
      "Requirement already satisfied: soupsieve>=1.2 in /anaconda3/lib/python3.7/site-packages (from beautifulsoup4->fastai) (1.9.5)\n",
      "Requirement already satisfied: pytz>=2011k in /anaconda3/lib/python3.7/site-packages (from pandas->fastai) (2019.1)\n",
      "Requirement already satisfied: importlib-metadata>=0.20; python_version < \"3.8\" in /anaconda3/lib/python3.7/site-packages (from spacy>=2.0.18->fastai) (0.23)\n",
      "Requirement already satisfied: plac<1.2.0,>=0.9.6 in /anaconda3/lib/python3.7/site-packages (from spacy>=2.0.18->fastai) (1.1.3)\n",
      "Requirement already satisfied: setuptools in /anaconda3/lib/python3.7/site-packages (from spacy>=2.0.18->fastai) (41.0.1)\n",
      "Requirement already satisfied: cymem<2.1.0,>=2.0.2 in /anaconda3/lib/python3.7/site-packages (from spacy>=2.0.18->fastai) (2.0.2)\n",
      "Requirement already satisfied: thinc<7.4.0,>=7.3.0 in /anaconda3/lib/python3.7/site-packages (from spacy>=2.0.18->fastai) (7.3.1)\n",
      "Requirement already satisfied: wasabi<1.1.0,>=0.3.0 in /anaconda3/lib/python3.7/site-packages (from spacy>=2.0.18->fastai) (0.4.0)\n",
      "Requirement already satisfied: srsly<1.1.0,>=0.1.0 in /anaconda3/lib/python3.7/site-packages (from spacy>=2.0.18->fastai) (0.2.0)\n",
      "Requirement already satisfied: preshed<3.1.0,>=3.0.2 in /anaconda3/lib/python3.7/site-packages (from spacy>=2.0.18->fastai) (3.0.2)\n",
      "Requirement already satisfied: murmurhash<1.1.0,>=0.28.0 in /anaconda3/lib/python3.7/site-packages (from spacy>=2.0.18->fastai) (1.0.2)\n",
      "Requirement already satisfied: blis<0.5.0,>=0.4.0 in /anaconda3/lib/python3.7/site-packages (from spacy>=2.0.18->fastai) (0.4.1)\n",
      "Requirement already satisfied: zipp>=0.5 in /anaconda3/lib/python3.7/site-packages (from importlib-metadata>=0.20; python_version < \"3.8\"->spacy>=2.0.18->fastai) (0.6.0)\n",
      "Requirement already satisfied: tqdm<5.0.0,>=4.10.0 in /anaconda3/lib/python3.7/site-packages (from thinc<7.4.0,>=7.3.0->spacy>=2.0.18->fastai) (4.36.1)\n",
      "Requirement already satisfied: more-itertools in /anaconda3/lib/python3.7/site-packages (from zipp>=0.5->importlib-metadata>=0.20; python_version < \"3.8\"->spacy>=2.0.18->fastai) (7.2.0)\n"
     ]
    }
   ],
   "source": [
    "#export\n",
    "#hide\n",
    "from pathlib import Path\n",
    "from IPython.core.debugger import set_trace\n",
    "from fastai import datasets\n",
    "import pickle, gzip, math, torch, matplotlib as mpl\n",
    "import matplotlib.pyplot as plt\n",
    "\n",
    "#the only torch import we will have in the project\n",
    "from torch import tensor\n",
    "import random\n",
    "import pdb\n",
    "\n",
    "_all_ = [\"Path\", \"set_trace\", \"datasets\", \"pickle\", \"gzip\", \"math\", \"torch\", \"tensor\", \"random\", \"pdb\"]\n",
    "\n",
    "MNIST_URL='http://deeplearning.net/data/mnist/mnist.pkl'"
   ]
  },
  {
   "cell_type": "markdown",
   "metadata": {},
   "source": [
    "# Helper Functions and Visualization"
   ]
  },
  {
   "cell_type": "code",
   "execution_count": null,
   "metadata": {},
   "outputs": [],
   "source": [
    "#export\n",
    "def is_equal(a,b):\n",
    "    \"Test for equality between 'a' and 'b'\"\n",
    "    assert(a==b)"
   ]
  },
  {
   "cell_type": "code",
   "execution_count": null,
   "metadata": {},
   "outputs": [],
   "source": [
    "#hide\n",
    "path = datasets.download_data(MNIST_URL, ext='.gz'); path\n",
    "\n",
    "with gzip.open(path, 'rb') as f:\n",
    "    ((x_train, y_train), (x_valid, y_valid), _) = pickle.load(f, encoding='latin-1')\n",
    "    \n",
    "x_train, y_train, x_valid, y_valid = map(tensor, (x_train, y_train, x_valid, y_valid))"
   ]
  },
  {
   "cell_type": "code",
   "execution_count": null,
   "metadata": {},
   "outputs": [],
   "source": [
    "#export\n",
    "#hide\n",
    "mpl.rcParams['image.cmap'] = 'gray'"
   ]
  },
  {
   "cell_type": "code",
   "execution_count": null,
   "metadata": {},
   "outputs": [],
   "source": [
    "#export\n",
    "def show_im(image, size=28):\n",
    "    \"Displays 'image' or random 'image' from set if multiple given of given 'size'\"\n",
    "    im_size = image.flatten().shape[0]\n",
    "    if im_size > size**2:\n",
    "        image = image[random.randint(0,math.floor((im_size-1)/size**2))]\n",
    "    plt.imshow(image.view(size,size))"
   ]
  },
  {
   "cell_type": "code",
   "execution_count": null,
   "metadata": {},
   "outputs": [
    {
     "data": {
      "image/png": "[encoded data removed]",
      "text/plain": [
       "<Figure size 432x288 with 1 Axes>"
      ]
     },
     "metadata": {
      "needs_background": "light"
     },
     "output_type": "display_data"
    }
   ],
   "source": [
    "show_im(x_train)"
   ]
  },
  {
   "cell_type": "code",
   "execution_count": null,
   "metadata": {},
   "outputs": [],
   "source": [
    "#export\n",
    "def near(a,b): \n",
    "    \"Test if tensors 'a' and 'b' are the same within a small tolerance\"\n",
    "    return torch.allclose(a, b, rtol=1e-3, atol=1e-5)"
   ]
  },
  {
   "cell_type": "code",
   "execution_count": null,
   "metadata": {},
   "outputs": [],
   "source": [
    "#export\n",
    "def test_near(a,b): \n",
    "    \"API for testing if tensors are near\"\n",
    "    if near(a,b) == True:\n",
    "        print(\"good\")\n",
    "    else:\n",
    "        print(\"not near\")"
   ]
  },
  {
   "cell_type": "markdown",
   "metadata": {},
   "source": [
    "# Matmul"
   ]
  },
  {
   "cell_type": "code",
   "execution_count": null,
   "metadata": {},
   "outputs": [],
   "source": [
    "#hide\n",
    "test_weight = torch.randn(784, 10)\n",
    "ims = x_train[:5]\n",
    "ground_truth = ims @ test_weight"
   ]
  },
  {
   "cell_type": "code",
   "execution_count": null,
   "metadata": {},
   "outputs": [],
   "source": [
    "#hide\n",
    "def matmul(a, b):\n",
    "    ar, ac = a.shape\n",
    "    br, bc = b.shape\n",
    "    assert (ac == br)\n",
    "    c = torch.zeros(ar,bc)\n",
    "    for bc_in in range(bc):\n",
    "        for ar_in in range(ar):\n",
    "            for ac_in in range(ac):\n",
    "                c[ar_in][bc_in] += a[ar_in][ac_in]*b[ac_in][bc_in]\n",
    "    \n",
    "    return c"
   ]
  },
  {
   "cell_type": "code",
   "execution_count": null,
   "metadata": {},
   "outputs": [
    {
     "name": "stdout",
     "output_type": "stream",
     "text": [
      "CPU times: user 664 ms, sys: 1.73 ms, total: 666 ms\n",
      "Wall time: 666 ms\n"
     ]
    }
   ],
   "source": [
    "#hide\n",
    "%time c = matmul(ims,test_weight)"
   ]
  },
  {
   "cell_type": "code",
   "execution_count": null,
   "metadata": {},
   "outputs": [
    {
     "name": "stdout",
     "output_type": "stream",
     "text": [
      "good\n"
     ]
    }
   ],
   "source": [
    "#hide\n",
    "test_near(c,ground_truth)"
   ]
  },
  {
   "cell_type": "code",
   "execution_count": null,
   "metadata": {},
   "outputs": [],
   "source": [
    "#hide\n",
    "def matmul2(a, b):\n",
    "    ar, ac = a.shape\n",
    "    br, bc = b.shape\n",
    "    assert (ac == br)\n",
    "    c = torch.zeros(ar,bc)\n",
    "    for bc_in in range(bc):\n",
    "        for ar_in in range(ar):\n",
    "                c[ar_in][bc_in] += (a[ar_in,:]*b[:,bc_in]).sum()\n",
    "    \n",
    "    return c"
   ]
  },
  {
   "cell_type": "code",
   "execution_count": null,
   "metadata": {},
   "outputs": [
    {
     "name": "stdout",
     "output_type": "stream",
     "text": [
      "CPU times: user 3.58 ms, sys: 1.7 ms, total: 5.28 ms\n",
      "Wall time: 3.57 ms\n"
     ]
    }
   ],
   "source": [
    "#hide\n",
    "%time c2 = matmul2(ims,test_weight)"
   ]
  },
  {
   "cell_type": "code",
   "execution_count": null,
   "metadata": {},
   "outputs": [
    {
     "name": "stdout",
     "output_type": "stream",
     "text": [
      "good\n"
     ]
    }
   ],
   "source": [
    "#hide\n",
    "test_near(c2,ground_truth)"
   ]
  },
  {
   "cell_type": "code",
   "execution_count": null,
   "metadata": {},
   "outputs": [],
   "source": [
    "#export\n",
    "def matmul(a, b):\n",
    "    \"Perform matrix multiplication on 'a' and 'b'\"\n",
    "    ar, ac = a.shape\n",
    "    br, bc = b.shape\n",
    "    assert (ac == br)\n",
    "    c = torch.zeros(ar,bc)\n",
    "    for ar_in in range(ar):\n",
    "        c[ar_in] += (a[ar_in].unsqueeze(-1) * b).sum(dim=0)\n",
    "    \n",
    "    return c"
   ]
  },
  {
   "cell_type": "code",
   "execution_count": null,
   "metadata": {},
   "outputs": [
    {
     "name": "stdout",
     "output_type": "stream",
     "text": [
      "CPU times: user 768 µs, sys: 625 µs, total: 1.39 ms\n",
      "Wall time: 729 µs\n"
     ]
    }
   ],
   "source": [
    "%time c3 = matmul3(ims,test_weight)"
   ]
  },
  {
   "cell_type": "code",
   "execution_count": null,
   "metadata": {},
   "outputs": [
    {
     "name": "stdout",
     "output_type": "stream",
     "text": [
      "good\n"
     ]
    }
   ],
   "source": [
    "test_near(c3,ground_truth)"
   ]
  },
  {
   "cell_type": "code",
   "execution_count": null,
   "metadata": {},
   "outputs": [],
   "source": [
    "#hide\n",
    "def matmul4(a,b): return a @ b"
   ]
  },
  {
   "cell_type": "code",
   "execution_count": null,
   "metadata": {},
   "outputs": [
    {
     "name": "stdout",
     "output_type": "stream",
     "text": [
      "CPU times: user 194 µs, sys: 46 µs, total: 240 µs\n",
      "Wall time: 184 µs\n"
     ]
    }
   ],
   "source": [
    "#hide\n",
    "%time c4 = matmul4(ims, test_weight)"
   ]
  },
  {
   "cell_type": "code",
   "execution_count": null,
   "metadata": {},
   "outputs": [
    {
     "name": "stdout",
     "output_type": "stream",
     "text": [
      "Converted AdvancedTrainingLoop.ipynb.\n",
      "Converted BasicOperations.ipynb.\n",
      "Converted Convolutions and Pooling.ipynb.\n",
      "Converted FullyConnectedNetwork.ipynb.\n",
      "Converted TrainingLoop.ipynb.\n",
      "Converted index.ipynb.\n"
     ]
    }
   ],
   "source": [
    "#hide\n",
    "from nbdev.export import *\n",
    "notebook2script()"
   ]
  },
  {
   "cell_type": "code",
   "execution_count": null,
   "metadata": {},
   "outputs": [],
   "source": []
  },
  {
   "cell_type": "code",
   "execution_count": null,
   "metadata": {},
   "outputs": [],
   "source": []
  },
  {
   "cell_type": "code",
   "execution_count": null,
   "metadata": {},
   "outputs": [],
   "source": []
  },
  {
   "cell_type": "code",
   "execution_count": null,
   "metadata": {},
   "outputs": [],
   "source": []
  },
  {
   "cell_type": "code",
   "execution_count": null,
   "metadata": {},
   "outputs": [],
   "source": []
  }
 ],
 "metadata": {
  "kernelspec": {
   "display_name": "Python 3",
   "language": "python",
   "name": "python3"
  }
 },
 "nbformat": 4,
 "nbformat_minor": 1
}
