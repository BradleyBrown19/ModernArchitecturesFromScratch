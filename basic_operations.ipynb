{
 "cells": [
  {
   "cell_type": "code",
   "execution_count": null,
   "metadata": {},
   "outputs": [],
   "source": [
    "#default_exp basic_operations_01"
   ]
  },
  {
   "cell_type": "markdown",
   "metadata": {},
   "source": [
    "# Basic Operations\n",
    "\n",
    "> Fundamental operations and helper functions in use throughout the library"
   ]
  },
  {
   "cell_type": "code",
   "execution_count": null,
   "metadata": {},
   "outputs": [],
   "source": [
    "#export\n",
    "#hide\n",
    "from pathlib import Path\n",
    "from IPython.core.debugger import set_trace\n",
    "from fastai import datasets\n",
    "import pickle, gzip, math, torch, matplotlib as mpl\n",
    "import matplotlib.pyplot as plt\n",
    "from nbdev.showdoc import show_doc\n",
    "\n",
    "#the only torch import we will have in the project\n",
    "from torch import tensor\n",
    "import random\n",
    "import pdb\n",
    "\n",
    "_all_ = [\"Path\", \"set_trace\", \"datasets\", \"pickle\", \"gzip\", \"math\", \"torch\", \"tensor\", \"random\", \"pdb\", \"show_doc\"]\n",
    "\n",
    "MNIST_URL='http://deeplearning.net/data/mnist/mnist.pkl'"
   ]
  },
  {
   "cell_type": "markdown",
   "metadata": {},
   "source": [
    "# Helper Functions"
   ]
  },
  {
   "cell_type": "markdown",
   "metadata": {},
   "source": [
    "## Testing"
   ]
  },
  {
   "cell_type": "code",
   "execution_count": null,
   "metadata": {},
   "outputs": [],
   "source": [
    "#export\n",
    "def is_equal(a,b):\n",
    "    \"Test for equality between `a` and `b`\"\n",
    "    assert(a==b)"
   ]
  },
  {
   "cell_type": "code",
   "execution_count": null,
   "metadata": {},
   "outputs": [],
   "source": [
    "#hide\n",
    "path = datasets.download_data(MNIST_URL, ext='.gz'); path\n",
    "\n",
    "with gzip.open(path, 'rb') as f:\n",
    "    ((x_train, y_train), (x_valid, y_valid), _) = pickle.load(f, encoding='latin-1')\n",
    "    \n",
    "x_train, y_train, x_valid, y_valid = map(tensor, (x_train, y_train, x_valid, y_valid))"
   ]
  },
  {
   "cell_type": "code",
   "execution_count": null,
   "metadata": {},
   "outputs": [],
   "source": [
    "#export\n",
    "#hide\n",
    "def near(a,b): \n",
    "    \"Test if tensors `a` and `b` are the same within a small tolerance\"\n",
    "    return torch.allclose(a, b, rtol=1e-3, atol=1e-5)"
   ]
  },
  {
   "cell_type": "code",
   "execution_count": null,
   "metadata": {},
   "outputs": [],
   "source": [
    "#export\n",
    "def test_near(a,b): \n",
    "    \"Test if tensors `a` and `b` are near within a small tolerance\"\n",
    "    if near(a,b) == True:\n",
    "        print(\"good\")\n",
    "    else:\n",
    "        print(\"not near\")"
   ]
  },
  {
   "cell_type": "code",
   "execution_count": null,
   "metadata": {},
   "outputs": [],
   "source": [
    "#export \n",
    "def test_near_zero(data, tol=1e-3):\n",
    "    \"Tests if tensor values are near zero under given 'tol'\"\n",
    "    assert data.abs() < tol; print(f'Near zero: {data}')"
   ]
  },
  {
   "cell_type": "code",
   "execution_count": null,
   "metadata": {},
   "outputs": [
    {
     "name": "stdout",
     "output_type": "stream",
     "text": [
      "not near\n"
     ]
    }
   ],
   "source": [
    "test_near(torch.ones(2,2), torch.zeros(2,2))"
   ]
  },
  {
   "cell_type": "code",
   "execution_count": null,
   "metadata": {},
   "outputs": [
    {
     "name": "stdout",
     "output_type": "stream",
     "text": [
      "good\n"
     ]
    }
   ],
   "source": [
    "test_near(torch.ones(2,2), torch.ones(2,2))"
   ]
  },
  {
   "cell_type": "code",
   "execution_count": null,
   "metadata": {},
   "outputs": [
    {
     "name": "stdout",
     "output_type": "stream",
     "text": [
      "Near zero: 0.0\n"
     ]
    }
   ],
   "source": [
    "test_near_zero(torch.zeros(2,2).mean())"
   ]
  },
  {
   "cell_type": "markdown",
   "metadata": {},
   "source": [
    "## Data Loading"
   ]
  },
  {
   "cell_type": "code",
   "execution_count": null,
   "metadata": {},
   "outputs": [],
   "source": [
    "#export\n",
    "def normalize(datasets, mean=None, std=None):\n",
    "    \"Normalizes according to given 'mean' and 'std' or mean of std of datasets if none given\"\n",
    "    if mean is None: mean = datasets.mean()\n",
    "    if std is None: std = datasets.std()\n",
    "    return (datasets - mean) / std"
   ]
  },
  {
   "cell_type": "code",
   "execution_count": null,
   "metadata": {},
   "outputs": [],
   "source": [
    "#export\n",
    "def get_mnist():\n",
    "    \"Helper function to load `normalized` train and validation MNIST datasets\"\n",
    "    path = datasets.download_data(MNIST_URL, ext='.gz')\n",
    "    with gzip.open(path, 'rb') as f:\n",
    "        ((x_train, y_train), (x_valid, y_valid), _) = pickle.load(f, encoding='latin-1')\n",
    "    \n",
    "    xt,yt,xv,yv = map(tensor, (x_train, y_train, x_valid, y_valid))\n",
    "    return normalize(xt).float(), yt.float(), normalize(xv, xt.mean(), xt.std()).float(), yv.float()"
   ]
  },
  {
   "cell_type": "markdown",
   "metadata": {},
   "source": [
    "```python\n",
    "def get_mnist():\n",
    "    path = datasets.download_data(MNIST_URL, ext='.gz')\n",
    "    with gzip.open(path, 'rb') as f:\n",
    "        ((x_train, y_train), (x_valid, y_valid), _) = pickle.load(f, encoding='latin-1')\n",
    "    \n",
    "    xt,yt,xv,yv = map(tensor, (x_train, y_train, x_valid, y_valid))\n",
    "    return normalize(xt).float(), yt.float(), normalize(xv, xt.mean(), xt.std()).float(), yv.float()\n",
    "```"
   ]
  },
  {
   "cell_type": "code",
   "execution_count": null,
   "metadata": {},
   "outputs": [],
   "source": [
    "xt,yt,xv,yv = get_mnist()"
   ]
  },
  {
   "cell_type": "code",
   "execution_count": null,
   "metadata": {},
   "outputs": [],
   "source": [
    "#export\n",
    "def get_stats(data):\n",
    "    \"Print mean and standard deviation of given `data`\"\n",
    "    print (f'Mean: {data.mean()}')\n",
    "    print (f'Std: {data.std()}')"
   ]
  },
  {
   "cell_type": "code",
   "execution_count": null,
   "metadata": {},
   "outputs": [
    {
     "name": "stdout",
     "output_type": "stream",
     "text": [
      "Mean: 0.00012300178059376776\n",
      "Std: 1.0\n"
     ]
    }
   ],
   "source": [
    "get_stats(xt)"
   ]
  },
  {
   "cell_type": "markdown",
   "metadata": {},
   "source": [
    "## Visualization"
   ]
  },
  {
   "cell_type": "code",
   "execution_count": null,
   "metadata": {},
   "outputs": [],
   "source": [
    "#export\n",
    "#hide\n",
    "mpl.rcParams['image.cmap'] = 'gray'"
   ]
  },
  {
   "cell_type": "code",
   "execution_count": null,
   "metadata": {},
   "outputs": [],
   "source": [
    "#export\n",
    "def show_im(image, size=28):\n",
    "    \"Displays 'image' or random 'image' from set if multiple given of given 'size'\"\n",
    "    im_size = image.flatten().shape[0]\n",
    "    if im_size > size**2:\n",
    "        image = image[random.randint(0,math.floor((im_size-1)/size**2))]\n",
    "    plt.imshow(image.view(size,size))"
   ]
  },
  {
   "cell_type": "code",
   "execution_count": null,
   "metadata": {},
   "outputs": [
    {
     "data": {
      "image/png": "[encoded data removed]",
      "text/plain": [
       "<Figure size 432x288 with 1 Axes>"
      ]
     },
     "metadata": {
      "needs_background": "light"
     },
     "output_type": "display_data"
    }
   ],
   "source": [
    "show_im(x_train)"
   ]
  },
  {
   "cell_type": "markdown",
   "metadata": {},
   "source": [
    "# Matmul"
   ]
  },
  {
   "cell_type": "code",
   "execution_count": null,
   "metadata": {},
   "outputs": [],
   "source": [
    "#hide\n",
    "test_weight = torch.randn(784, 10)\n",
    "ims = x_train[:5]\n",
    "ground_truth = ims @ test_weight"
   ]
  },
  {
   "cell_type": "code",
   "execution_count": null,
   "metadata": {},
   "outputs": [],
   "source": [
    "#hide\n",
    "def matmul(a, b):\n",
    "    ar, ac = a.shape\n",
    "    br, bc = b.shape\n",
    "    assert (ac == br)\n",
    "    c = torch.zeros(ar,bc)\n",
    "    for bc_in in range(bc):\n",
    "        for ar_in in range(ar):\n",
    "            for ac_in in range(ac):\n",
    "                c[ar_in][bc_in] += a[ar_in][ac_in]*b[ac_in][bc_in]\n",
    "    \n",
    "    return c"
   ]
  },
  {
   "cell_type": "code",
   "execution_count": null,
   "metadata": {},
   "outputs": [
    {
     "name": "stdout",
     "output_type": "stream",
     "text": [
      "CPU times: user 700 ms, sys: 2.77 ms, total: 703 ms\n",
      "Wall time: 704 ms\n"
     ]
    }
   ],
   "source": [
    "#hide\n",
    "%time c = matmul(ims,test_weight)"
   ]
  },
  {
   "cell_type": "code",
   "execution_count": null,
   "metadata": {},
   "outputs": [
    {
     "name": "stdout",
     "output_type": "stream",
     "text": [
      "good\n"
     ]
    }
   ],
   "source": [
    "#hide\n",
    "test_near(c,ground_truth)"
   ]
  },
  {
   "cell_type": "code",
   "execution_count": null,
   "metadata": {},
   "outputs": [],
   "source": [
    "#hide\n",
    "def matmul2(a, b):\n",
    "    ar, ac = a.shape\n",
    "    br, bc = b.shape\n",
    "    assert (ac == br)\n",
    "    c = torch.zeros(ar,bc)\n",
    "    for bc_in in range(bc):\n",
    "        for ar_in in range(ar):\n",
    "                c[ar_in][bc_in] += (a[ar_in,:]*b[:,bc_in]).sum()\n",
    "    \n",
    "    return c"
   ]
  },
  {
   "cell_type": "code",
   "execution_count": null,
   "metadata": {},
   "outputs": [
    {
     "name": "stdout",
     "output_type": "stream",
     "text": [
      "CPU times: user 1.75 ms, sys: 640 µs, total: 2.39 ms\n",
      "Wall time: 1.76 ms\n"
     ]
    }
   ],
   "source": [
    "#hide\n",
    "%time c2 = matmul2(ims,test_weight)"
   ]
  },
  {
   "cell_type": "code",
   "execution_count": null,
   "metadata": {},
   "outputs": [
    {
     "name": "stdout",
     "output_type": "stream",
     "text": [
      "good\n"
     ]
    }
   ],
   "source": [
    "#hide\n",
    "test_near(c2,ground_truth)"
   ]
  },
  {
   "cell_type": "code",
   "execution_count": null,
   "metadata": {},
   "outputs": [],
   "source": [
    "#export\n",
    "def matmul(a, b):\n",
    "    \"Perform matrix multiplication on `a` and `b`\"\n",
    "    ar, ac = a.shape\n",
    "    br, bc = b.shape\n",
    "    assert (ac == br)\n",
    "    c = torch.zeros(ar,bc)\n",
    "    for ar_in in range(ar):\n",
    "        c[ar_in] += (a[ar_in].unsqueeze(-1) * b).sum(dim=0)\n",
    "    \n",
    "    return c"
   ]
  },
  {
   "cell_type": "markdown",
   "metadata": {},
   "source": [
    "```python\n",
    "def matmul(a, b):\n",
    "    ar, ac = a.shape\n",
    "    br, bc = b.shape\n",
    "    assert (ac == br)\n",
    "    c = torch.zeros(ar,bc)\n",
    "    for ar_in in range(ar):\n",
    "        c[ar_in] += (a[ar_in].unsqueeze(-1) * b).sum(dim=0)\n",
    "    \n",
    "    return c\n",
    "```"
   ]
  },
  {
   "cell_type": "code",
   "execution_count": null,
   "metadata": {},
   "outputs": [
    {
     "name": "stdout",
     "output_type": "stream",
     "text": [
      "CPU times: user 506 µs, sys: 337 µs, total: 843 µs\n",
      "Wall time: 487 µs\n"
     ]
    }
   ],
   "source": [
    "%time result = matmul(ims,test_weight)"
   ]
  },
  {
   "cell_type": "code",
   "execution_count": null,
   "metadata": {},
   "outputs": [
    {
     "name": "stdout",
     "output_type": "stream",
     "text": [
      "good\n"
     ]
    }
   ],
   "source": [
    "test_near(result,ground_truth)"
   ]
  },
  {
   "cell_type": "code",
   "execution_count": null,
   "metadata": {},
   "outputs": [],
   "source": [
    "#hide\n",
    "def matmul4(a,b): return a @ b"
   ]
  },
  {
   "cell_type": "code",
   "execution_count": null,
   "metadata": {},
   "outputs": [
    {
     "name": "stdout",
     "output_type": "stream",
     "text": [
      "CPU times: user 167 µs, sys: 37 µs, total: 204 µs\n",
      "Wall time: 146 µs\n"
     ]
    }
   ],
   "source": [
    "#hide\n",
    "%time c4 = matmul4(ims, test_weight)"
   ]
  },
  {
   "cell_type": "code",
   "execution_count": null,
   "metadata": {},
   "outputs": [
    {
     "name": "stdout",
     "output_type": "stream",
     "text": [
      "Converted Batchnorm.ipynb.\n",
      "Converted Callbacks.ipynb.\n",
      "Converted Convolutions&Pooling.ipynb.\n",
      "Converted FullyConnectedNetwork.ipynb.\n",
      "Converted ModelTraining.ipynb.\n",
      "Converted Optimizers.ipynb.\n",
      "Converted ResNet.ipynb.\n",
      "Converted basic_operations.ipynb.\n",
      "Converted index.ipynb.\n",
      "Converted tutorial.ipynb.\n"
     ]
    }
   ],
   "source": [
    "#hide\n",
    "from nbdev.export import *\n",
    "notebook2script()"
   ]
  },
  {
   "cell_type": "code",
   "execution_count": null,
   "metadata": {},
   "outputs": [],
   "source": []
  },
  {
   "cell_type": "code",
   "execution_count": null,
   "metadata": {},
   "outputs": [],
   "source": []
  },
  {
   "cell_type": "code",
   "execution_count": null,
   "metadata": {},
   "outputs": [],
   "source": []
  },
  {
   "cell_type": "code",
   "execution_count": null,
   "metadata": {},
   "outputs": [],
   "source": []
  },
  {
   "cell_type": "code",
   "execution_count": null,
   "metadata": {},
   "outputs": [],
   "source": []
  }
 ],
 "metadata": {
  "kernelspec": {
   "display_name": "Python 3",
   "language": "python",
   "name": "python3"
  }
 },
 "nbformat": 4,
 "nbformat_minor": 1
}
