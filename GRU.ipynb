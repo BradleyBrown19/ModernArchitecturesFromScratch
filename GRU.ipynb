{
 "cells": [
  {
   "cell_type": "code",
   "execution_count": null,
   "metadata": {},
   "outputs": [],
   "source": [
    "#default_exp GRU"
   ]
  },
  {
   "cell_type": "code",
   "execution_count": null,
   "metadata": {},
   "outputs": [],
   "source": [
    "#export\n",
    "from nbdev.showdoc import show_doc\n",
    "from ModernArchitecturesFromPyTorch.nb_ScratchToPytorch import *\n",
    "from ModernArchitecturesFromScratch.convolutions_pooling_04 import *"
   ]
  },
  {
   "cell_type": "markdown",
   "metadata": {},
   "source": [
    "# GRU\n",
    "> Implementing GRU, a modified LSTM cell with 1 less gate for increased training efficiency.\n",
    "![GRU cell](https://miro.medium.com/max/2084/1*jhi5uOm9PvZfmxvfaCektw.png)"
   ]
  },
  {
   "cell_type": "code",
   "execution_count": null,
   "metadata": {},
   "outputs": [],
   "source": [
    "#export\n",
    "class GRU(nn.Module):\n",
    "    def __init__(self, input_sz, hidden_sz):\n",
    "        \"GRU network\"\n",
    "        super().__init__()\n",
    "        self.s_rescale_weight = nn.Parameter(get_weight(hidden_sz, hidden_sz))\n",
    "        self.inp_rescale_weight = nn.Parameter(get_weight(input_sz, hidden_sz))\n",
    "        self.rescale_bias = nn.Parameter(torch.zeros(hidden_sz))\n",
    "\n",
    "        self.s_update_weight = nn.Parameter(get_weight(hidden_sz, hidden_sz))\n",
    "        self.inp_update_weight = nn.Parameter(get_weight(input_sz, hidden_sz))\n",
    "        self.update_bias = nn.Parameter(torch.zeros(hidden_sz))\n",
    "\n",
    "        self.s_add_weight = nn.Parameter(get_weight(hidden_sz, hidden_sz))\n",
    "        self.inp_add_weight = nn.Parameter(get_weight(input_sz, hidden_sz))\n",
    "        self.add_bias = nn.Parameter(torch.zeros(hidden_sz))\n",
    "\n",
    "        self.tanh = nn.Tanh()\n",
    "        self.sig = nn.Sigmoid()\n",
    "        self.hidden_sz = hidden_sz\n",
    "    \n",
    "    def forward(self, input, state=None):\n",
    "        hidden, state = torch.zeros(self.hidden_sz) if state is None else state[0], torch.zeros(self.hidden_sz) if state is None else state[1]\n",
    "        bs, fs, _ = input.shape\n",
    "        hiddens = []\n",
    "\n",
    "        for feat in range(fs):\n",
    "            inp = input[:,feat,:]\n",
    "\n",
    "            reset_scale = self.sig(state @ self.s_rescale_weight + inp @ self.inp_rescale_weight + self.rescale_bias)\n",
    "            reset = state * reset_scale\n",
    "\n",
    "            update = self.sig(state @ self.s_update_weight + inp @ self.inp_update_weight + self.update_bias)\n",
    "\n",
    "            add = self.tanh(reset @ self.s_add_weight + inp @ self.inp_add_weight + self.add_bias) * update\n",
    "\n",
    "            state = state * (-1*update) + add\n",
    "\n",
    "            hiddens.append(state.unsqueeze(1))\n",
    "        \n",
    "        hiddens = torch.cat(hiddens, dim=1)\n",
    "\n",
    "        return hiddens, state"
   ]
  },
  {
   "cell_type": "markdown",
   "metadata": {},
   "source": [
    "```python\n",
    "class GRU(nn.Module):\n",
    "    def __init__(self, input_sz, hidden_sz):\n",
    "        \"GRU network\"\n",
    "        super().__init__()\n",
    "        self.s_rescale_weight = nn.Parameter(get_weight(hidden_sz, hidden_sz))\n",
    "        self.inp_rescale_weight = nn.Parameter(get_weight(input_sz, hidden_sz))\n",
    "        self.rescale_bias = nn.Parameter(torch.zeros(hidden_sz))\n",
    "\n",
    "        self.s_update_weight = nn.Parameter(get_weight(hidden_sz, hidden_sz))\n",
    "        self.inp_update_weight = nn.Parameter(get_weight(input_sz, hidden_sz))\n",
    "        self.update_bias = nn.Parameter(torch.zeros(hidden_sz))\n",
    "\n",
    "        self.s_add_weight = nn.Parameter(get_weight(hidden_sz, hidden_sz))\n",
    "        self.inp_add_weight = nn.Parameter(get_weight(input_sz, hidden_sz))\n",
    "        self.add_bias = nn.Parameter(torch.zeros(hidden_sz))\n",
    "\n",
    "        self.tanh = nn.Tanh()\n",
    "        self.sig = nn.Sigmoid()\n",
    "        self.hidden_sz = hidden_sz\n",
    "    \n",
    "    def forward(self, input, state=None):\n",
    "        hidden, state = torch.zeros(self.hidden_sz) if state is None else state[0], torch.zeros(self.hidden_sz) if state is None else state[1]\n",
    "        bs, fs, _ = input.shape\n",
    "        hiddens = []\n",
    "\n",
    "        for feat in range(fs):\n",
    "            inp = input[:,feat,:]\n",
    "\n",
    "            reset_scale = self.sig(state @ self.s_rescale_weight + inp @ self.inp_rescale_weight + self.rescale_bias)\n",
    "            reset = state * reset_scale\n",
    "\n",
    "            update = self.sig(state @ self.s_update_weight + inp @ self.inp_update_weight + self.update_bias)\n",
    "\n",
    "            add = self.tanh(reset @ self.s_add_weight + inp @ self.inp_add_weight + self.add_bias) * update\n",
    "\n",
    "            state = state * (-1*update) + add\n",
    "\n",
    "            hiddens.append(state.unsqueeze(1))\n",
    "        \n",
    "        hiddens = torch.cat(hiddens, dim=1)\n",
    "\n",
    "        return hiddens, state\n",
    "```"
   ]
  },
  {
   "cell_type": "code",
   "execution_count": null,
   "metadata": {},
   "outputs": [],
   "source": [
    "gru = GRU(16, 10)"
   ]
  },
  {
   "cell_type": "code",
   "execution_count": null,
   "metadata": {},
   "outputs": [
    {
     "data": {
      "text/plain": [
       "torch.Size([16, 8, 10])"
      ]
     },
     "execution_count": null,
     "metadata": {
      "tags": []
     },
     "output_type": "execute_result"
    }
   ],
   "source": [
    "gru(torch.randn(16,8,16))[0].shape"
   ]
  },
  {
   "cell_type": "code",
   "execution_count": null,
   "metadata": {},
   "outputs": [
    {
     "name": "stdout",
     "output_type": "stream",
     "text": [
      "Converted GRU.ipynb to ModernArchitecturesFromPyTorch/nb_GRU.py\n"
     ]
    }
   ],
   "source": [
    "!python notebook2script.py GRU.ipynb"
   ]
  },
  {
   "cell_type": "code",
   "execution_count": null,
   "metadata": {},
   "outputs": [],
   "source": []
  }
 ],
 "metadata": {
  "kernelspec": {
   "display_name": "Python 3",
   "language": "python",
   "name": "python3"
  }
 },
 "nbformat": 4,
 "nbformat_minor": 1
}
