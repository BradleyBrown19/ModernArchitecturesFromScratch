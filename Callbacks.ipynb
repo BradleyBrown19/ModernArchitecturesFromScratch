{
 "cells": [
  {
   "cell_type": "code",
   "execution_count": null,
   "metadata": {},
   "outputs": [],
   "source": [
    "#default_exp callbacks_05"
   ]
  },
  {
   "cell_type": "code",
   "execution_count": null,
   "metadata": {},
   "outputs": [],
   "source": [
    "#export\n",
    "from ModernArchitecturesFromScratch.basic_operations_01 import *\n",
    "from ModernArchitecturesFromScratch.fully_connected_network_02 import *\n",
    "from ModernArchitecturesFromScratch.model_training_03 import *\n",
    "from ModernArchitecturesFromScratch.convolutions_pooling_04 import *\n",
    "from nbdev.showdoc import *\n",
    "import math\n",
    "from functools import partial\n",
    "import matplotlib.pyplot as plt\n",
    "import time\n",
    "from fastprogress import master_bar, progress_bar\n",
    "from fastprogress.fastprogress import format_time"
   ]
  },
  {
   "cell_type": "markdown",
   "metadata": {},
   "source": [
    "# Callbacks\n",
    "> Implementing an advanced training loop to take advantage of callbacks. Defines new wrapper classes such as databunch and learner."
   ]
  },
  {
   "cell_type": "markdown",
   "metadata": {},
   "source": [
    "# DataLoader"
   ]
  },
  {
   "cell_type": "code",
   "execution_count": null,
   "metadata": {},
   "outputs": [],
   "source": [
    "#export\n",
    "#hide\n",
    "class Dataset():\n",
    "    def __init__(self, x, y): self.x, self.y = x, y\n",
    "    def __getitem__(self, i): return self.x[i], self.y[i]\n",
    "    def __len__(self): return len(self.x)\n",
    "    def __repr__(self): return f'X: {self.x.shape}, Y: {self.y.shape}'\n",
    "\n",
    "class DataLoader():\n",
    "    def __init__(self, ds, batcher, collate_fcn): self.ds, self.batcher, self.collate_fcn = ds, batcher, collate_fcn    \n",
    "    def __iter__(self):\n",
    "        for b in self.batcher: yield self.collate_fcn([self.ds[i] for i in b])     \n",
    "    @property\n",
    "    def dataset(self): return self.ds\n",
    "    def __len__(self): return math.ceil(len(self.ds) / self.batcher.bs)\n",
    "    def __repr__(self): return f'Data: {self.ds}, bs = {self.batcher.bs}'"
   ]
  },
  {
   "cell_type": "code",
   "execution_count": null,
   "metadata": {},
   "outputs": [],
   "source": [
    "#export\n",
    "class Databunch():\n",
    "    \"Wrapper to combine training and validation datasets\"\n",
    "    def __init__(self, train_dl, valid_dl): self.train, self.valid = train_dl, valid_dl\n",
    "    \n",
    "    @property\n",
    "    def train_ds(self): return self.train.dataset\n",
    "    \n",
    "    @property\n",
    "    def valid_ds(self): return self.valid.dataset\n",
    "    \n",
    "    def __repr__(self): return f'Databunch(\\nTrain: {self.train}, \\nValid{self.valid}\\n)'\n",
    "    \n",
    "    def __len__(self): return len(self.train)"
   ]
  },
  {
   "cell_type": "code",
   "execution_count": null,
   "metadata": {},
   "outputs": [],
   "source": [
    "#export\n",
    "def get_databunch(xt, yt, xv, yv, bs=64):\n",
    "    \"Helper function to get a databunch of given `bs`\"\n",
    "    t_data, v_data = Dataset(xt, yt), Dataset(xv, yv)\n",
    "    t_dl, v_dl = DataLoader(t_data, Batcher(t_data, bs, True), collate), DataLoader(t_data, Batcher(t_data, bs*2, False), collate)\n",
    "    return Databunch(t_dl, v_dl)\n",
    "\n",
    "def get_mnist_databunch():\n",
    "    \"Grabs MNIST databuunch usuing `get_mnist` and `get_databunch`\"\n",
    "    return get_databunch(*get_mnist())"
   ]
  },
  {
   "cell_type": "code",
   "execution_count": null,
   "metadata": {},
   "outputs": [],
   "source": [
    "db = get_mnist_databunch()"
   ]
  },
  {
   "cell_type": "code",
   "execution_count": null,
   "metadata": {},
   "outputs": [
    {
     "data": {
      "text/plain": [
       "Databunch(\n",
       "Train: Data: X: torch.Size([50000, 784]), Y: torch.Size([50000]), bs = 64, \n",
       "ValidData: X: torch.Size([50000, 784]), Y: torch.Size([50000]), bs = 128\n",
       ")"
      ]
     },
     "execution_count": null,
     "metadata": {},
     "output_type": "execute_result"
    }
   ],
   "source": [
    "db"
   ]
  },
  {
   "cell_type": "markdown",
   "metadata": {},
   "source": [
    "# Learner"
   ]
  },
  {
   "cell_type": "code",
   "execution_count": null,
   "metadata": {},
   "outputs": [],
   "source": [
    "#export\n",
    "class Learner():\n",
    "    def __init__(self, model, loss_func, optimizer, db, lr=0.5):\n",
    "        \"Wrapper for model, loss function, optimizer and databunch\"\n",
    "        self.model, self.loss_func, self.optimizer, self.db = model, loss_func, optimizer(model.parameters(), lr), db\n",
    "    \n",
    "    def __repr__(self): return f'Data: \\n {self.db} \\n Model: \\n {self.model}'"
   ]
  },
  {
   "cell_type": "code",
   "execution_count": null,
   "metadata": {},
   "outputs": [],
   "source": [
    "#export\n",
    "def get_learner():\n",
    "    \"Helper function to get learner\"\n",
    "    m,_,lf = get_linear_model(0.1)\n",
    "    db = get_mnist_databunch()\n",
    "    return Learner(m,lf,Optimizer,db)"
   ]
  },
  {
   "cell_type": "code",
   "execution_count": null,
   "metadata": {},
   "outputs": [
    {
     "data": {
      "text/plain": [
       "Data: \n",
       " Databunch(\n",
       "Train: Data: X: torch.Size([50000, 784]), Y: torch.Size([50000]), bs = 64, \n",
       "ValidData: X: torch.Size([50000, 784]), Y: torch.Size([50000]), bs = 128\n",
       ") \n",
       " Model: \n",
       " (Layer1): Linear(784, 50)\n",
       "(Layer2): ReLU()\n",
       "(Layer3): Linear(50, 10)"
      ]
     },
     "execution_count": null,
     "metadata": {},
     "output_type": "execute_result"
    }
   ],
   "source": [
    "learn = Learner(model, lr, Optimizer, db)\n",
    "learn"
   ]
  },
  {
   "cell_type": "markdown",
   "metadata": {},
   "source": [
    "# Runner"
   ]
  },
  {
   "cell_type": "code",
   "execution_count": null,
   "metadata": {},
   "outputs": [],
   "source": [
    "#export\n",
    "class Runner():\n",
    "    \"All encompossing class to train a model with specific callbacks\"\n",
    "    def __init__(self, learner, cbs=None):\n",
    "        cbs = [] if cbs is None else cbs\n",
    "        self.stop,self.cbs = False,[TrainEvalCallback()]+cbs\n",
    "        \n",
    "        for cb in self.cbs:\n",
    "            cb.runner = self\n",
    "            \n",
    "        self.learner = learner\n",
    "    \n",
    "    @property\n",
    "    def model(self): return self.learner.model\n",
    "    @property\n",
    "    def optimizer(self): return self.learner.optimizer\n",
    "    @property\n",
    "    def loss_func(self): return self.learner.loss_func\n",
    "    @property\n",
    "    def databunch(self): return self.learner.db\n",
    "    @property\n",
    "    def dl(self): return self.learner.db.train if self.model.training else self.learner.db.valid\n",
    "    \n",
    "    def do_one_batch(self, xb, yb):\n",
    "        \"Applies forward and backward passes of model to one batch\"\n",
    "        self.xb, self.yb = xb, yb\n",
    "        \n",
    "        self.pred = self.learner.model(xb)\n",
    "        self.loss = self.learner.loss_func(self.pred, yb)\n",
    "        if self.check_callbacks('after_loss') or not self.learner.model.training: return\n",
    "        \n",
    "        self.learner.loss_func.backward()\n",
    "        if self.check_callbacks('after_loss_back'): return\n",
    "        \n",
    "        self.learner.model.backward()\n",
    "        if self.check_callbacks('after_model_back'): return\n",
    "        \n",
    "        self.optimizer.step()\n",
    "        if self.check_callbacks('after_opt'): return\n",
    "        \n",
    "        self.optimizer.zero_grad()\n",
    "        if self.check_callbacks('after_zero_grad'): return\n",
    "    \n",
    "    def do_all_batches(self, dl):\n",
    "        \"Runs every batch of a dataloader through `do_one_batch`\"\n",
    "        self.iters, self.iters_done = len(dl), 0\n",
    "        for xb, yb in dl:\n",
    "            if self.stop: break\n",
    "            self.xb, self.yb = xb,yb\n",
    "            if self.check_callbacks('before_batch'): return\n",
    "            self.do_one_batch(self.xb,self.yb)\n",
    "            if self.check_callbacks('after_batch'): return\n",
    "        self.iters = 0\n",
    "            \n",
    "        self.stop = False\n",
    "\n",
    "    def fit(self, epochs, lr=0.1):\n",
    "        \"Method to fit the model `epoch` times using learning rate `lr`\"\n",
    "        self.optimizer.lr, self.epochs = lr, epochs\n",
    "        if self.check_callbacks('before_fit'): return\n",
    "        \n",
    "        for epoch in range(epochs):\n",
    "            self.epoch = epoch\n",
    "            if self.check_callbacks('before_epoch'): return\n",
    "            if not self.check_callbacks('before_train'): self.do_all_batches(self.learner.db.train)\n",
    "            if not self.check_callbacks('before_valid'): self.do_all_batches(self.learner.db.valid)\n",
    "            if self.check_callbacks('after_epoch'): break\n",
    "        \n",
    "        if self.check_callbacks('after_fit'): return\n",
    "    \n",
    "    def check_callbacks(self, state):\n",
    "        \"Helper functions to run through each callback, calling it's state method if applicable\"\n",
    "        for cb in sorted(self.cbs, key=lambda x: x._order):\n",
    "            f = getattr(cb, state, None)\n",
    "            if f and f(): return True\n",
    "        return False\n",
    "    \n",
    "    def __repr__(self): return f'{self.learner} \\n Callbacks: \\n {self.cbs}'"
   ]
  },
  {
   "cell_type": "markdown",
   "metadata": {},
   "source": [
    "```python\n",
    "def do_one_batch(self, xb, yb):\n",
    "        \"Applies forward and backward passes of model to one batch\"\n",
    "        self.xb, self.yb = xb, yb\n",
    "        \n",
    "        self.pred = self.learner.model(xb)\n",
    "        self.loss = self.learner.loss_func(self.pred, yb)\n",
    "        if self.check_callbacks('after_loss') or not self.learner.model.training: return\n",
    "        \n",
    "        self.learner.loss_func.backward()\n",
    "        if self.check_callbacks('after_loss_back'): return\n",
    "        \n",
    "        self.learner.model.backward()\n",
    "        if self.check_callbacks('after_model_back'): return\n",
    "        \n",
    "        self.opt.step()\n",
    "        if self.check_callbacks('after_opt'): return\n",
    "        \n",
    "        self.opt.zero_grad()\n",
    "        if self.check_callbacks('after_zero_grad'): return\n",
    "    \n",
    "    def do_all_batches(self, dl):\n",
    "        \"Runs every batch of a dataloader through `do_one_batch`\"\n",
    "        self.iters, self.iters_done = len(dl), 0\n",
    "        for xb, yb in dl:\n",
    "            if self.stop: break\n",
    "            if self.check_callbacks('before_batch'): return\n",
    "            self.do_one_batch(xb,yb)\n",
    "            if self.check_callbacks('after_batch'): return\n",
    "        self.iters = 0\n",
    "            \n",
    "        self.stop = False\n",
    "\n",
    "    def fit(self, epochs, lr=0.1):\n",
    "        \"Method to fit the model `epoch` times using learning rate `lr`\"\n",
    "        self.lr, self.epochs = lr, epochs\n",
    "        if self.check_callbacks('before_fit'): return\n",
    "        \n",
    "        for epoch in range(epochs):\n",
    "            self.epoch = epoch\n",
    "            if self.check_callbacks('before_epoch'): return\n",
    "            if not self.check_callbacks('before_train'): self.do_all_batches(self.learner.db.train)\n",
    "            if not self.check_callbacks('before_valid'): self.do_all_batches(self.learner.db.valid)\n",
    "            if self.check_callbacks('after_epoch'): break\n",
    "        \n",
    "        if self.check_callbacks('after_fit'): return\n",
    "    \n",
    "    def check_callbacks(self, state):\n",
    "        \"Helper functions to run through each callback, calling it's state method if applicable\"\n",
    "        for cb in sorted(self.cbs, key=lambda x: x._order):\n",
    "            f = getattr(cb, state, None)\n",
    "            if f and f(): return True\n",
    "        return False\n",
    "    ```"
   ]
  },
  {
   "cell_type": "code",
   "execution_count": null,
   "metadata": {},
   "outputs": [],
   "source": [
    "#export\n",
    "def get_runner(callbacks=None):\n",
    "    return Runner(get_learner(), list(callbacks))"
   ]
  },
  {
   "cell_type": "code",
   "execution_count": null,
   "metadata": {},
   "outputs": [
    {
     "data": {
      "text/markdown": [
       "<h4 id=\"Runner.__init__\" class=\"doc_header\"><code>Runner.__init__</code><a href=\"__main__.py#L4\" class=\"source_link\" style=\"float:right\">[source]</a></h4>\n",
       "\n",
       "> <code>Runner.__init__</code>(**`learner`**, **`cbs`**=*`None`*)\n",
       "\n",
       "Initialize self.  See help(type(self)) for accurate signature."
      ],
      "text/plain": [
       "<IPython.core.display.Markdown object>"
      ]
     },
     "metadata": {},
     "output_type": "display_data"
    }
   ],
   "source": [
    "show_doc(Runner.__init__)"
   ]
  },
  {
   "cell_type": "code",
   "execution_count": null,
   "metadata": {},
   "outputs": [
    {
     "data": {
      "text/markdown": [
       "<h4 id=\"Runner.do_one_batch\" class=\"doc_header\"><code>Runner.do_one_batch</code><a href=\"__main__.py#L24\" class=\"source_link\" style=\"float:right\">[source]</a></h4>\n",
       "\n",
       "> <code>Runner.do_one_batch</code>(**`xb`**, **`yb`**)\n",
       "\n",
       "Applies forward and backward passes of model to one batch"
      ],
      "text/plain": [
       "<IPython.core.display.Markdown object>"
      ]
     },
     "metadata": {},
     "output_type": "display_data"
    }
   ],
   "source": [
    "show_doc(Runner.do_one_batch)"
   ]
  },
  {
   "cell_type": "code",
   "execution_count": null,
   "metadata": {},
   "outputs": [
    {
     "data": {
      "text/markdown": [
       "<h4 id=\"Runner.do_all_batches\" class=\"doc_header\"><code>Runner.do_all_batches</code><a href=\"__main__.py#L44\" class=\"source_link\" style=\"float:right\">[source]</a></h4>\n",
       "\n",
       "> <code>Runner.do_all_batches</code>(**`dl`**)\n",
       "\n",
       "Runs every batch of a dataloader through `do_one_batch`"
      ],
      "text/plain": [
       "<IPython.core.display.Markdown object>"
      ]
     },
     "metadata": {},
     "output_type": "display_data"
    }
   ],
   "source": [
    "show_doc(Runner.do_all_batches)"
   ]
  },
  {
   "cell_type": "code",
   "execution_count": null,
   "metadata": {},
   "outputs": [
    {
     "data": {
      "text/markdown": [
       "<h4 id=\"Runner.fit\" class=\"doc_header\"><code>Runner.fit</code><a href=\"__main__.py#L56\" class=\"source_link\" style=\"float:right\">[source]</a></h4>\n",
       "\n",
       "> <code>Runner.fit</code>(**`epochs`**, **`lr`**=*`0.1`*)\n",
       "\n",
       "Method to fit the model `epoch` times using learning rate `lr`"
      ],
      "text/plain": [
       "<IPython.core.display.Markdown object>"
      ]
     },
     "metadata": {},
     "output_type": "display_data"
    }
   ],
   "source": [
    "show_doc(Runner.fit)"
   ]
  },
  {
   "cell_type": "code",
   "execution_count": null,
   "metadata": {},
   "outputs": [
    {
     "data": {
      "text/markdown": [
       "<h4 id=\"Runner.check_callbacks\" class=\"doc_header\"><code>Runner.check_callbacks</code><a href=\"__main__.py#L70\" class=\"source_link\" style=\"float:right\">[source]</a></h4>\n",
       "\n",
       "> <code>Runner.check_callbacks</code>(**`state`**)\n",
       "\n",
       "Helper functions to run through each callback, calling it's state method if applicable"
      ],
      "text/plain": [
       "<IPython.core.display.Markdown object>"
      ]
     },
     "metadata": {},
     "output_type": "display_data"
    }
   ],
   "source": [
    "show_doc(Runner.check_callbacks)"
   ]
  },
  {
   "cell_type": "markdown",
   "metadata": {},
   "source": [
    "# Callbacks"
   ]
  },
  {
   "cell_type": "markdown",
   "metadata": {},
   "source": [
    "## Base Class"
   ]
  },
  {
   "cell_type": "code",
   "execution_count": null,
   "metadata": {},
   "outputs": [],
   "source": [
    "#export\n",
    "class Callback():\n",
    "    \"Base class for callbacks, defines order of execution and allows abstraction of self to runner class\"\n",
    "    _order = 0\n",
    "    def __getattr__(self,k):\n",
    "        #If callback doesn't have an attribute, check the runner\n",
    "        return getattr(self.runner, k)\n",
    "\n",
    "    def __repr__(self): return f'{self.__class__.__name__}'"
   ]
  },
  {
   "cell_type": "markdown",
   "metadata": {},
   "source": [
    "## Built in Callback"
   ]
  },
  {
   "cell_type": "code",
   "execution_count": null,
   "metadata": {},
   "outputs": [],
   "source": [
    "#export\n",
    "class TrainEvalCallback(Callback):\n",
    "    \"Keeps track of training/eval mode of model and progress through training\"\n",
    "    _order = 10\n",
    "    \n",
    "    def before_fit(self):\n",
    "        #self.runner.opt = self.learner.optimizer(self.learner.model.parameters(), self.lr)\n",
    "        self.runner.epochs_done = 0.\n",
    "        \n",
    "    def before_batch(self):\n",
    "        self.runner.iters_done += 1\n",
    "        self.runner.epochs_done += 1/self.iters\n",
    "        \n",
    "    def before_valid(self):\n",
    "        self.model.training = False\n",
    "    \n",
    "    def before_train(self):\n",
    "        self.model.training = True\n",
    "    \n",
    "    def after_epoch(self):\n",
    "        self.runner.iters_done = 0"
   ]
  },
  {
   "cell_type": "markdown",
   "metadata": {},
   "source": [
    "## Metric Tracking"
   ]
  },
  {
   "cell_type": "code",
   "execution_count": null,
   "metadata": {},
   "outputs": [],
   "source": [
    "#export\n",
    "class Stat():\n",
    "    \"Defines a metric to keep track of through training, metric calculated using `calc`\"\n",
    "    def __init__(self, calc): self.calc, self.value, self.count = calc, 0., 0\n",
    "    \n",
    "    def __call__(self, bs, *args):\n",
    "        self.value += self.calc(*args) * bs\n",
    "        self.count += bs\n",
    "    \n",
    "    def reset(self): self.value, self.count = 0., 0\n",
    "        \n",
    "    def __repr__(self): return f'{(self.calc.__name__).capitalize()}: {self.value / self.count}' if self.count > 0 else f'{(self.calc.__name__).capitalize()}'\n",
    "    \n",
    "class StatTracker():\n",
    "    \"Class to implement thet `Stats` callback using metrics of class `Stat`\"\n",
    "    def __init__(self, metrics, in_train):\n",
    "        self.in_train = in_train\n",
    "        self.metrics = [Stat(m) for m in metrics]\n",
    "    \n",
    "    def reset(self):\n",
    "        self.count, self.tot_loss = 0., 0.\n",
    "        for met in self.metrics: met.reset()\n",
    "    \n",
    "    def __len__(self): return len(self.metrics)\n",
    "    \n",
    "    def accumulate(self, run):\n",
    "        \"Scales the metric value by the amount of data in each batch\"\n",
    "        bs = run.xb.shape[0]\n",
    "        self.tot_loss = run.loss * bs\n",
    "        self.count += bs\n",
    "        for i,met in enumerate(self.metrics):\n",
    "            met(bs, run.pred, run.yb)\n",
    "    \n",
    "    def __repr__(self):\n",
    "        if self.count < 1: return \"\"\n",
    "        else:\n",
    "            printed_stats = f'Loss: {self.tot_loss / self.count}'\n",
    "            for met in self.metrics:\n",
    "                printed_stats += f', {met}'\n",
    "            return f'{\"Train\" if self.in_train else \"Valid\"}: {printed_stats}'\n",
    "    \n",
    "class Stats(Callback):\n",
    "    \"Callback to keep track of stats passed\"\n",
    "    def __init__(self, metrics):\n",
    "        self.train, self.valid = StatTracker(metrics, True), StatTracker(metrics, False)\n",
    "    \n",
    "    def before_epoch(self):\n",
    "        self.train.reset()\n",
    "        self.valid.reset()\n",
    "    \n",
    "    def after_loss(self):\n",
    "        stats = self.train if self.model.training else self.valid\n",
    "        stats.accumulate(self.runner)\n",
    "        \n",
    "    def after_epoch(self):\n",
    "        print(f'Epoch: {self.epoch+1}')\n",
    "        print(self.train)\n",
    "        print(self.valid)"
   ]
  },
  {
   "cell_type": "markdown",
   "metadata": {},
   "source": [
    "Testing the `Stats` callback:"
   ]
  },
  {
   "cell_type": "code",
   "execution_count": null,
   "metadata": {},
   "outputs": [],
   "source": [
    "run = Runner(learn, [Stats([accuracy])])"
   ]
  },
  {
   "cell_type": "code",
   "execution_count": null,
   "metadata": {},
   "outputs": [
    {
     "name": "stdout",
     "output_type": "stream",
     "text": [
      "Epoch: 1\n",
      "Train: Loss: 2.3827933546272106e-06, Accuracy: 0.9668400287628174\n",
      "Valid: Loss: 0.00014949109754525125, Accuracy: 0.9701799750328064\n",
      "Epoch: 2\n",
      "Train: Loss: 2.326479034309159e-06, Accuracy: 0.9716399908065796\n",
      "Valid: Loss: 7.430403638863936e-05, Accuracy: 0.9783200025558472\n",
      "Epoch: 3\n",
      "Train: Loss: 4.621696461981628e-06, Accuracy: 0.9759799838066101\n",
      "Valid: Loss: 0.00013563691754825413, Accuracy: 0.9827600121498108\n",
      "Epoch: 4\n",
      "Train: Loss: 2.2784424800192937e-06, Accuracy: 0.9796000123023987\n",
      "Valid: Loss: 8.738860196899623e-05, Accuracy: 0.985040009021759\n",
      "Epoch: 5\n",
      "Train: Loss: 7.541702507296577e-05, Accuracy: 0.9826599955558777\n",
      "Valid: Loss: 0.0008652143878862262, Accuracy: 0.94514000415802\n"
     ]
    }
   ],
   "source": [
    "run.fit(5, 0.1)"
   ]
  },
  {
   "cell_type": "markdown",
   "metadata": {},
   "source": [
    "## Parameter Scheduling"
   ]
  },
  {
   "cell_type": "code",
   "execution_count": null,
   "metadata": {},
   "outputs": [],
   "source": [
    "#export\n",
    "#hide\n",
    "class Optimizer():\n",
    "    def __init__(self, params, **defaults):\n",
    "        #Make params a list of lists\n",
    "        self.params = list(params)\n",
    "        if not isinstance(self.params[0],list): self.params = list(self.params)\n",
    "        self.hypes = [{**defaults} for p in self.params]\n",
    "        \n",
    "    def step(self): \n",
    "        for p in self.params: p.step(self.lr)\n",
    "    \n",
    "    def zero_grad(self): \n",
    "        for p in self.params: p.zero_grad()"
   ]
  },
  {
   "cell_type": "code",
   "execution_count": null,
   "metadata": {},
   "outputs": [],
   "source": [
    "#export\n",
    "class Scheduler(Callback):\n",
    "    \"Class to schedule the hyperparameters of the model\"\n",
    "    _order=1\n",
    "    def __init__(self, param, scheduler): \n",
    "        self.param, self.sched = param, scheduler\n",
    "    \n",
    "    def before_batch(self):\n",
    "        if self.model.training:\n",
    "            for pg in self.optimizer.hypes:\n",
    "                pg[self.param] = self.sched(self.epochs_done % 1)"
   ]
  },
  {
   "cell_type": "code",
   "execution_count": null,
   "metadata": {},
   "outputs": [],
   "source": [
    "#export\n",
    "def annealer(f):\n",
    "    \"Allows easy implementation of different scheduling functions through inner functions\"\n",
    "    def _inner(start, end): return partial(f, start, end)\n",
    "    return _inner\n",
    "\n",
    "@annealer\n",
    "def linear_scheduler(start, end, pos): \n",
    "    \"Schedule linearly from start to end\"\n",
    "    return pos*(end-start) + start\n",
    "\n",
    "@annealer\n",
    "def cos_scheduler(start, end, pos): \n",
    "    \"Schedule using a cosine function\"\n",
    "    return start + (1 + math.cos(math.pi*(1-pos))) * (end-start) / 2"
   ]
  },
  {
   "cell_type": "code",
   "execution_count": null,
   "metadata": {},
   "outputs": [],
   "source": [
    "#export\n",
    "def combine_scheds(pcts, scheds):\n",
    "    \"Combine multiple different schedules in each epoch\"\n",
    "    assert(sum(pcts) == 1.)\n",
    "    pcts = tensor([0] + pcts)\n",
    "    pcts = torch.cumsum(pcts, 0)\n",
    "    def _inner(pos):\n",
    "        idx = min((pos >= pcts).nonzero().max(), len(pcts)-2)\n",
    "        actual_pos = (pos-pcts[idx]) / (pcts[idx+1]-pcts[idx])\n",
    "        return scheds[idx](actual_pos)\n",
    "    return _inner"
   ]
  },
  {
   "cell_type": "code",
   "execution_count": null,
   "metadata": {},
   "outputs": [],
   "source": [
    "#export\n",
    "class HyperRecorder(Callback):\n",
    "    \"Callback to keep track of and visualize hyperparameter values and losses in the network\"\n",
    "    def __init__(self, params): \n",
    "        if not isinstance(params, list): params = [params]\n",
    "        self.params, self.losses = {p: [] for p in params}, []\n",
    "    \n",
    "    def after_batch(self):\n",
    "        if self.model.training:\n",
    "            self.losses.append(self.loss)\n",
    "            for p in self.params:\n",
    "                for pg in self.optimizer.hypes:\n",
    "                    self.params[p].append(pg[p])\n",
    "    \n",
    "    def plot_param(self,param):\n",
    "        param_list = self.params[param]\n",
    "        plt.plot(param_list)\n",
    "    \n",
    "    def plot_loss(self):\n",
    "        plt.plot(self.losses)"
   ]
  },
  {
   "cell_type": "code",
   "execution_count": null,
   "metadata": {},
   "outputs": [],
   "source": [
    "#export\n",
    "#hide\n",
    "class Learner():\n",
    "    def __init__(self, model, loss_func, optimizer, db, lr=0.5):\n",
    "        \"Wrapper for model, loss function, optimizer and databunch\"\n",
    "        self.model, self.loss_func, self.optimizer, self.db = model, loss_func, optimizer(model.parameters(), lr=lr), db\n",
    "    \n",
    "    def __repr__(self): return f'Data: \\n {self.db} \\n Model: \\n {self.model}'"
   ]
  },
  {
   "cell_type": "markdown",
   "metadata": {},
   "source": [
    "Testing `HyperRecorder` and `Scheduler`"
   ]
  },
  {
   "cell_type": "code",
   "execution_count": null,
   "metadata": {},
   "outputs": [],
   "source": [
    "start_lr = 0.01\n",
    "model, _, loss_func= get_linear_model(start_lr)\n",
    "db = get_mnist_databunch()\n",
    "learn = Learner(model, loss_func, Optimizer, db, start_lr)"
   ]
  },
  {
   "cell_type": "code",
   "execution_count": null,
   "metadata": {},
   "outputs": [],
   "source": [
    "schedule = combine_scheds([0.4, 0.6], [cos_scheduler(0.01,0.1), cos_scheduler(0.1,0.01)])"
   ]
  },
  {
   "cell_type": "code",
   "execution_count": null,
   "metadata": {},
   "outputs": [],
   "source": [
    "run = Runner(learn, [Scheduler('lr', schedule), HyperRecorder(['lr'])])"
   ]
  },
  {
   "cell_type": "code",
   "execution_count": null,
   "metadata": {},
   "outputs": [],
   "source": [
    "run.fit(2)"
   ]
  },
  {
   "cell_type": "code",
   "execution_count": null,
   "metadata": {},
   "outputs": [
    {
     "data": {
      "image/png": "[encoded data removed]",
      "text/plain": [
       "<Figure size 432x288 with 1 Axes>"
      ]
     },
     "metadata": {
      "needs_background": "light"
     },
     "output_type": "display_data"
    }
   ],
   "source": [
    "run.cbs[2].plot_loss()"
   ]
  },
  {
   "cell_type": "code",
   "execution_count": null,
   "metadata": {},
   "outputs": [
    {
     "data": {
      "image/png": "[encoded data removed]",
      "text/plain": [
       "<Figure size 432x288 with 1 Axes>"
      ]
     },
     "metadata": {
      "needs_background": "light"
     },
     "output_type": "display_data"
    }
   ],
   "source": [
    "run.cbs[2].plot_param('lr')"
   ]
  },
  {
   "cell_type": "markdown",
   "metadata": {},
   "source": [
    "# Progress Bar"
   ]
  },
  {
   "cell_type": "markdown",
   "metadata": {},
   "source": [
    "## Reformated Stats"
   ]
  },
  {
   "cell_type": "code",
   "execution_count": null,
   "metadata": {},
   "outputs": [],
   "source": [
    "#export\n",
    "#hide\n",
    "def accuracy(preds, targ, *args):\n",
    "    \"Compute accuracy of `preds` with respect to `targ`\"\n",
    "    return (torch.argmax(preds, dim=1)==targ).float().mean()"
   ]
  },
  {
   "cell_type": "code",
   "execution_count": null,
   "metadata": {},
   "outputs": [],
   "source": [
    "#export\n",
    "def loss(preds, targ, loss, **kwargs):\n",
    "    \"Stat for loss\"\n",
    "    return loss"
   ]
  },
  {
   "cell_type": "code",
   "execution_count": null,
   "metadata": {},
   "outputs": [],
   "source": [
    "#export\n",
    "#hide\n",
    "class Stat():\n",
    "    \"Defines a metric to keep track of through training, metric calculated using `calc`\"\n",
    "    def __init__(self, calc): self.calc, self.value, self.count = calc, 0., 0\n",
    "    \n",
    "    def __call__(self, bs, *args):\n",
    "        self.value += self.calc(*args) * bs\n",
    "        self.count += bs\n",
    "    \n",
    "    def reset(self): self.value, self.count = 0., 0\n",
    "    \n",
    "    @property\n",
    "    def avg(self): return (self.value / self.count).item()\n",
    "        \n",
    "    def __repr__(self): return f'{(self.calc.__name__).capitalize()}: {self.value / self.count}' if self.count > 0 else f'{(self.calc.__name__).capitalize()}'\n",
    "    \n",
    "class StatTracker():\n",
    "    \"Class to implement thet `Stats` callback using metrics of class `Stat`\"\n",
    "    def __init__(self, metrics, in_train):\n",
    "        self.in_train = in_train\n",
    "        self.metrics = [Stat(loss)] + [Stat(m) for m in metrics]\n",
    "    \n",
    "    def reset(self):\n",
    "        self.count, self.tot_loss = 0., 0.\n",
    "        for met in self.metrics: met.reset()\n",
    "    \n",
    "    def __len__(self): return len(self.metrics)\n",
    "    \n",
    "    def accumulate(self, run):\n",
    "        \"Scales the metric value by the amount of data in each batch\"\n",
    "        bs = run.xb.shape[0]\n",
    "        self.tot_loss = run.loss * bs\n",
    "        self.count += bs\n",
    "        for i,met in enumerate(self.metrics):\n",
    "            met(bs, run.pred, run.yb, run.loss)\n",
    "    \n",
    "    def __repr__(self):\n",
    "        if self.count < 1: return \"\"\n",
    "        else:\n",
    "            printed_stats = f'Loss: {self.tot_loss / self.count}'\n",
    "            for met in self.metrics:\n",
    "                printed_stats += f', {met}'\n",
    "            return f'{\"Train\" if self.in_train else \"Valid\"}: {printed_stats}'\n",
    "    \n",
    "class Stats(Callback):\n",
    "    \"Callback to keep track of `metrics`\"\n",
    "    def __init__(self, metrics):\n",
    "        self.train, self.valid = StatTracker(metrics, True), StatTracker(metrics, False)\n",
    "        \n",
    "    def before_fit(self):\n",
    "        met_names = [m.calc.__name__ for m in self.train.metrics]\n",
    "        names = ['epoch'] + [f'train_{n}' for n in met_names] + [\n",
    "            f'valid_{n}' for n in met_names] + ['time']\n",
    "        self.logger(names)\n",
    "    \n",
    "    def before_epoch(self):\n",
    "        self.train.reset()\n",
    "        self.valid.reset()\n",
    "        self.start_time = time.time()\n",
    "    \n",
    "    def after_loss(self):\n",
    "        stats = self.train if self.model.training else self.valid\n",
    "        stats.accumulate(self.runner)\n",
    "        \n",
    "    def after_epoch(self):\n",
    "        stats = [str(self.epoch)] \n",
    "        for o in [self.train, self.valid]:\n",
    "            stats += [f'{v.avg:.6f}' for v in o.metrics] \n",
    "        stats += [format_time(time.time() - self.start_time)]\n",
    "        self.logger(stats)"
   ]
  },
  {
   "cell_type": "code",
   "execution_count": null,
   "metadata": {},
   "outputs": [],
   "source": [
    "# export \n",
    "class ProgressCallback(Callback):\n",
    "    \"Callback to make a nice progress bar with metrics for training. Slightly modified version of: https://github.com/fastai/course-v3/blob/master/nbs/dl2/09c_add_progress_bar.ipynb\"\n",
    "    _order=-1\n",
    "    def before_fit(self):\n",
    "        self.mbar = master_bar(range(self.epochs))\n",
    "        self.mbar.on_iter_begin()\n",
    "        self.runner.logger = partial(self.mbar.write, table=True)\n",
    "        \n",
    "    def after_fit(self): self.mbar.on_iter_end()\n",
    "    def after_batch(self): self.pb.update(self.iters_done)\n",
    "    def before_epoch(self): self.set_pb(self.databunch.train)\n",
    "    def before_valid(self): self.set_pb(self.databunch.valid)\n",
    "        \n",
    "    def set_pb(self, dl):\n",
    "        self.pb = progress_bar(dl, parent=self.mbar, auto_update=False)\n",
    "        self.mbar.update(self.epoch)"
   ]
  },
  {
   "cell_type": "markdown",
   "metadata": {},
   "source": [
    "Testing out the progress bar:"
   ]
  },
  {
   "cell_type": "code",
   "execution_count": null,
   "metadata": {},
   "outputs": [],
   "source": [
    "run = get_runner([Stats([accuracy]), ProgressCallback()])"
   ]
  },
  {
   "cell_type": "code",
   "execution_count": null,
   "metadata": {},
   "outputs": [
    {
     "data": {
      "text/html": [
       "<table border=\"1\" class=\"dataframe\">\n",
       "  <thead>\n",
       "    <tr style=\"text-align: left;\">\n",
       "      <th>epoch</th>\n",
       "      <th>train_loss</th>\n",
       "      <th>train_accuracy</th>\n",
       "      <th>valid_loss</th>\n",
       "      <th>valid_accuracy</th>\n",
       "      <th>time</th>\n",
       "    </tr>\n",
       "  </thead>\n",
       "  <tbody>\n",
       "    <tr>\n",
       "      <td>0</td>\n",
       "      <td>0.065741</td>\n",
       "      <td>0.979400</td>\n",
       "      <td>0.072409</td>\n",
       "      <td>0.977340</td>\n",
       "      <td>00:01</td>\n",
       "    </tr>\n",
       "    <tr>\n",
       "      <td>1</td>\n",
       "      <td>0.056172</td>\n",
       "      <td>0.982340</td>\n",
       "      <td>0.056556</td>\n",
       "      <td>0.981700</td>\n",
       "      <td>00:01</td>\n",
       "    </tr>\n",
       "    <tr>\n",
       "      <td>2</td>\n",
       "      <td>0.048253</td>\n",
       "      <td>0.984220</td>\n",
       "      <td>0.083364</td>\n",
       "      <td>0.973420</td>\n",
       "      <td>00:01</td>\n",
       "    </tr>\n",
       "  </tbody>\n",
       "</table>"
      ],
      "text/plain": [
       "<IPython.core.display.HTML object>"
      ]
     },
     "metadata": {},
     "output_type": "display_data"
    }
   ],
   "source": [
    "run.fit(3, 0.2)"
   ]
  },
  {
   "cell_type": "code",
   "execution_count": null,
   "metadata": {},
   "outputs": [],
   "source": []
  }
 ],
 "metadata": {
  "kernelspec": {
   "display_name": "Python 3",
   "language": "python",
   "name": "python3"
  }
 },
 "nbformat": 4,
 "nbformat_minor": 2
}
