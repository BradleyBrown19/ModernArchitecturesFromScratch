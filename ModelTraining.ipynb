{
 "cells": [
  {
   "cell_type": "code",
   "execution_count": null,
   "metadata": {},
   "outputs": [],
   "source": [
    "#default_exp model_training_03"
   ]
  },
  {
   "cell_type": "markdown",
   "metadata": {},
   "source": [
    "# Model Training\n",
    "> Improved and refactored FCN modules as well as Parameters, Optimizers and a Training Loop"
   ]
  },
  {
   "cell_type": "code",
   "execution_count": null,
   "metadata": {},
   "outputs": [],
   "source": [
    "#export\n",
    "from ModernArchitecturesFromScratch.basic_operations_01 import *\n",
    "from ModernArchitecturesFromScratch.fully_connected_network_02 import *\n",
    "from nbdev.showdoc import *"
   ]
  },
  {
   "cell_type": "code",
   "execution_count": null,
   "metadata": {},
   "outputs": [],
   "source": [
    "#hide\n",
    "n_in = 784\n",
    "n_out = 10"
   ]
  },
  {
   "cell_type": "code",
   "execution_count": null,
   "metadata": {},
   "outputs": [],
   "source": [
    "#hide\n",
    "xt, yt, xv, yv = get_mnist()\n",
    "layers = [Linear(n_in,50, True), ReLU(), Linear(50,n_out, False)]\n",
    "model = Model(layers)"
   ]
  },
  {
   "cell_type": "markdown",
   "metadata": {},
   "source": [
    "## Better Cross Entropy"
   ]
  },
  {
   "cell_type": "code",
   "execution_count": null,
   "metadata": {},
   "outputs": [],
   "source": [
    "#hide\n",
    "def log_softmax(inp): \n",
    "    \"Return the log softmax of input\"\n",
    "    return (inp.exp() / inp.exp().sum(-1, keepdim=True)).log()"
   ]
  },
  {
   "cell_type": "code",
   "execution_count": null,
   "metadata": {},
   "outputs": [],
   "source": [
    "#export\n",
    "def logsumexp(inp):\n",
    "    \"Helper function to compute log_softmax\"\n",
    "    a = inp.max(dim=1).values\n",
    "    return a + ((inp-a[:,None]).exp().sum(-1)).log()\n",
    "\n",
    "def log_softmax_improved(inp):\n",
    "    \"Improved `log_softmax` to take advantage of exponential properties\"\n",
    "    return inp - logsumexp(inp).unsqueeze(-1)"
   ]
  },
  {
   "cell_type": "markdown",
   "metadata": {},
   "source": [
    "```python\n",
    "def logsumexp(inp):\n",
    "    a = inp.max(dim=1).values\n",
    "    return a + ((inp-a[:,None]).exp().sum(-1)).log()\n",
    "\n",
    "def log_softmax_improved(inp):\n",
    "    return inp - logsumexp(inp).unsqueeze(-1)\n",
    "```"
   ]
  },
  {
   "cell_type": "code",
   "execution_count": null,
   "metadata": {},
   "outputs": [],
   "source": [
    "#export\n",
    "def nll(inp, targ): \n",
    "    \"Computes near log likelihood\"\n",
    "    return -(inp[range(targ.shape[0]), targ.long()].mean())"
   ]
  },
  {
   "cell_type": "code",
   "execution_count": null,
   "metadata": {},
   "outputs": [],
   "source": [
    "#export\n",
    "def cross_entropy(inp, targ): \n",
    "    \"Uses `log_softmax_improved` and `nll` to compute cross entropy loss\"\n",
    "    return nll((log_softmax_improved(inp)), targ)"
   ]
  },
  {
   "cell_type": "markdown",
   "metadata": {},
   "source": [
    "## Initial Train Loop"
   ]
  },
  {
   "cell_type": "code",
   "execution_count": null,
   "metadata": {},
   "outputs": [],
   "source": [
    "#export\n",
    "def accuracy(preds, targ): \n",
    "    \"Compute accuracy of `preds` with respect to `targ`\"\n",
    "    return (torch.argmax(preds, dim=1)==targ).float().mean()"
   ]
  },
  {
   "cell_type": "code",
   "execution_count": null,
   "metadata": {},
   "outputs": [],
   "source": [
    "#hide\n",
    "bs = 64\n",
    "lr = 0.5"
   ]
  },
  {
   "cell_type": "code",
   "execution_count": null,
   "metadata": {},
   "outputs": [],
   "source": [
    "#export\n",
    "def fit(epochs, model, loss_func, train, valid):\n",
    "    \"Basic function to fit `model` for given number of `epochs` with `loss_func` and `train` and `valid`. Prints out accuracy after every epoch. This will become heavily refactored\"\n",
    "    for epoch in range(epochs):\n",
    "        for batch in range(math.ceil(len(train)//bs)):\n",
    "            start = batch*bs\n",
    "            end = batch*bs + bs\n",
    "            train_batch = train[start:end]\n",
    "            valid_batch = valid[start:end]\n",
    "            \n",
    "            loss = loss_func(model(train_batch), valid_batch)\n",
    "            loss_func.backward(loss, )\n",
    "            model.backward()\n",
    "            \n",
    "            with torch.no_grad():\n",
    "                for l in model.layers:\n",
    "                    if hasattr(l, 'w'):\n",
    "                        l.w -= l.w.g * lr\n",
    "                        l.b   -= l.b.g   * lr\n",
    "                        l.w.g = 0\n",
    "                        l.b.g = 0\n",
    "        print(f'Epoch {epoch+1}, Accuracy: {accuracy(model(xt), yt)}')"
   ]
  },
  {
   "cell_type": "markdown",
   "metadata": {},
   "source": [
    "```python\n",
    "def fit(epochs, model, loss_func, train, valid):\n",
    "    for epoch in range(epochs):\n",
    "        for batch in range(math.ceil(len(train)//bs)):\n",
    "            start = batch*bs\n",
    "            end = batch*bs + bs\n",
    "            train_batch = train[start:end]\n",
    "            valid_batch = valid[start:end]\n",
    "            \n",
    "            loss = loss_func(model(train_batch), valid_batch)\n",
    "            loss_func.backward(loss, )\n",
    "            model.backward()\n",
    "            \n",
    "            with torch.no_grad():\n",
    "                for l in model.layers:\n",
    "                    if hasattr(l, 'w'):\n",
    "                        l.w -= l.w.g * lr\n",
    "                        l.b   -= l.b.g   * lr\n",
    "                        l.w.g = 0\n",
    "                        l.b.g = 0\n",
    "        print(f'Epoch {epoch+1}, Accuracy: {accuracy(model(xt), yt)}')\n",
    "        ```"
   ]
  },
  {
   "cell_type": "markdown",
   "metadata": {},
   "source": [
    "## Parameters"
   ]
  },
  {
   "cell_type": "code",
   "execution_count": null,
   "metadata": {},
   "outputs": [],
   "source": [
    "#export\n",
    "class Parameter():\n",
    "    \"Defines a base class for all parameters that need to be learned by the model\"\n",
    "    def __init__(self, data=None, requires_grad=True):\n",
    "        self.d = torch.Tensor() if data is None else data\n",
    "        self.requires_grad = requires_grad\n",
    "        self.grad = 0.\n",
    "    \n",
    "    def step(self, lr): \n",
    "        self.d -= lr * self.grad\n",
    "    \n",
    "    def zero_grad(self): self.grad = 0.\n",
    "    \n",
    "    def update(self, amount): self.grad = amount\n",
    "        \n",
    "    def __get__(self, instance, owner): return self.d\n",
    "        \n",
    "    def __repr__(self): \n",
    "        return f'Parameter: {self.d.shape}, Requires grad: {self.requires_grad}'"
   ]
  },
  {
   "cell_type": "code",
   "execution_count": null,
   "metadata": {},
   "outputs": [],
   "source": [
    "l_data = torch.zeros([4,6])\n",
    "s_data = torch.randn([4,2])\n",
    "param_l = Parameter(l_data)\n",
    "param_s = Parameter(s_data)"
   ]
  },
  {
   "cell_type": "code",
   "execution_count": null,
   "metadata": {},
   "outputs": [
    {
     "data": {
      "text/plain": [
       "Parameter: torch.Size([4, 6]), Requires grad: True"
      ]
     },
     "execution_count": null,
     "metadata": {},
     "output_type": "execute_result"
    }
   ],
   "source": [
    "param_l"
   ]
  },
  {
   "cell_type": "code",
   "execution_count": null,
   "metadata": {},
   "outputs": [
    {
     "data": {
      "text/plain": [
       "Parameter: torch.Size([4, 2]), Requires grad: True"
      ]
     },
     "execution_count": null,
     "metadata": {},
     "output_type": "execute_result"
    }
   ],
   "source": [
    "param_s"
   ]
  },
  {
   "cell_type": "markdown",
   "metadata": {},
   "source": [
    "## Sequential Model "
   ]
  },
  {
   "cell_type": "code",
   "execution_count": null,
   "metadata": {},
   "outputs": [],
   "source": [
    "#export\n",
    "class SequentialModel():\n",
    "    \"Model for executing forward and backward passes on a given list of `layers`\"\n",
    "    def __init__(self, *args):\n",
    "        self.layers = list(args)\n",
    "        self.training = True\n",
    "    \n",
    "    def __repr__(self):\n",
    "        \"Prints out all modules of model\"\n",
    "        res = [\"(Layer\" + str(i+1) + \"): \" + str(m) for i,m in enumerate(self.layers)]\n",
    "        return \"\\n\".join(res)\n",
    "    \n",
    "    def __call__(self, x):\n",
    "        \"Execute forward pass on `x` throuh `self.layers`\"\n",
    "        for l in self.layers: x = l(x)\n",
    "        return x\n",
    "    \n",
    "    def backward(self):\n",
    "        \"Execute backward pass on `x` throuh `self.layers`\"\n",
    "        for l in reversed(self.layers): l.backward()\n",
    "    \n",
    "    def parameters(self):\n",
    "        \"Get iterator over all parameters in layers of `self.layers`\"\n",
    "        for l in self.layers:\n",
    "            for p in l.parameters(): yield p"
   ]
  },
  {
   "cell_type": "markdown",
   "metadata": {},
   "source": [
    "## FCN Layers Redo"
   ]
  },
  {
   "cell_type": "code",
   "execution_count": null,
   "metadata": {},
   "outputs": [],
   "source": [
    "#export\n",
    "class Module():\n",
    "    \"Defines a base class for all layers of the network. Allows for easy implementation of forward and backward passes as well as updating learnable parameters\"\n",
    "    def __init__(self):\n",
    "        self._params = {}\n",
    "        \n",
    "    def __call__(self, *args):\n",
    "        self.args = args\n",
    "        self.out = self.forward(*args)\n",
    "        return self.out\n",
    "\n",
    "    def forward(self): raise Exception(\"Not Implemented\")\n",
    "\n",
    "    def backward(self): self.bwd(self.out, *self.args)  \n",
    "        \n",
    "    def __setattr__(self,k,v):\n",
    "        if isinstance(v, Parameter): self._params[k] = v  \n",
    "        super().__setattr__(k,v)\n",
    "    \n",
    "    def parameters(self):\n",
    "        for p in self._params.values(): yield p"
   ]
  },
  {
   "cell_type": "code",
   "execution_count": null,
   "metadata": {},
   "outputs": [],
   "source": [
    "#export\n",
    "\n",
    "class CrossEntropy(Module):\n",
    "    def forward(self, inp, targ):\n",
    "        return cross_entropy(inp, targ)\n",
    "    \n",
    "    def bwd(self, loss, inp, targ):\n",
    "        inp_s = softmax(inp)\n",
    "        inp_s[range(targ.shape[0]), targ.long()] -= 1\n",
    "        inp.g = inp_s / targ.shape[0]  "
   ]
  },
  {
   "cell_type": "code",
   "execution_count": null,
   "metadata": {},
   "outputs": [],
   "source": [
    "#export\n",
    "\n",
    "class Linear(Module):\n",
    "    def __init__(self, in_d, out_d, relu_after, req_grad=True): \n",
    "        super().__init__()\n",
    "        self.w = Parameter(get_weight(in_d, out_d, relu_after), req_grad)\n",
    "        self.b = Parameter(torch.zeros(out_d), req_grad)\n",
    "\n",
    "    def forward(self, xb): return xb @ self.w.d + self.b.d\n",
    "\n",
    "    def bwd(self, out, inp):\n",
    "        inp.g = out.g @ self.w.d.t()\n",
    "        self.w.update(inp.t() @ out.g)\n",
    "        self.b.update(out.g.sum(0))\n",
    "    \n",
    "    def __repr__(self): return f'Linear({self.w.d.shape[0]}, {self.w.d.shape[1]})'"
   ]
  },
  {
   "cell_type": "code",
   "execution_count": null,
   "metadata": {},
   "outputs": [],
   "source": [
    "#export\n",
    "\n",
    "class ReLU(Module):\n",
    "    def forward(self, x): return x.clamp_min_(0.)-0.5\n",
    "    def bwd(self, out, inp):\n",
    "        inp.g = (inp>0).float() * out.g\n",
    "    def __repr__(self): return f'ReLU()'"
   ]
  },
  {
   "cell_type": "code",
   "execution_count": null,
   "metadata": {},
   "outputs": [],
   "source": [
    "model = SequentialModel(Linear(n_in,50, True), ReLU(), Linear(50,n_out, False))"
   ]
  },
  {
   "cell_type": "code",
   "execution_count": null,
   "metadata": {},
   "outputs": [
    {
     "data": {
      "text/plain": [
       "(Layer1): Linear(784, 50)\n",
       "(Layer2): ReLU()\n",
       "(Layer3): Linear(50, 10)"
      ]
     },
     "execution_count": null,
     "metadata": {},
     "output_type": "execute_result"
    }
   ],
   "source": [
    "model"
   ]
  },
  {
   "cell_type": "code",
   "execution_count": null,
   "metadata": {},
   "outputs": [
    {
     "name": "stdout",
     "output_type": "stream",
     "text": [
      "Parameter: torch.Size([784, 50]), Requires grad: True\n",
      "Parameter: torch.Size([50]), Requires grad: True\n",
      "Parameter: torch.Size([50, 10]), Requires grad: True\n",
      "Parameter: torch.Size([10]), Requires grad: True\n"
     ]
    }
   ],
   "source": [
    "for p in model.parameters(): print(p)"
   ]
  },
  {
   "cell_type": "markdown",
   "metadata": {},
   "source": [
    "## Optimizer"
   ]
  },
  {
   "cell_type": "code",
   "execution_count": null,
   "metadata": {},
   "outputs": [],
   "source": [
    "#export\n",
    "class Optimizer():\n",
    "    def __init__(self, params, lr): self.params, self.lr = list(params), lr\n",
    "        \n",
    "    def step(self): \n",
    "        for p in self.params: p.step(self.lr)\n",
    "    \n",
    "    def zero_grad(self): \n",
    "        for p in self.params: p.zero_grad()"
   ]
  },
  {
   "cell_type": "code",
   "execution_count": null,
   "metadata": {},
   "outputs": [],
   "source": [
    "optim = Optimizer(model.parameters(), 0.5)"
   ]
  },
  {
   "cell_type": "code",
   "execution_count": null,
   "metadata": {},
   "outputs": [],
   "source": [
    "def fit(epochs, model, optim, loss_func, train, valid):\n",
    "    \"Fit function 2: Added easier optimization steps\"\n",
    "    for epoch in range(epochs):\n",
    "        for batch in range(math.ceil(len(train)//bs)):\n",
    "            start = batch*bs\n",
    "            end = batch*bs + bs\n",
    "            train_batch = train[start:end]\n",
    "            valid_batch = valid[start:end]\n",
    "            \n",
    "            loss = loss_func(model(train_batch), valid_batch)\n",
    "            loss_func.backward()\n",
    "            model.backward()\n",
    "            \n",
    "            optim.step()\n",
    "            optim.zero_grad()\n",
    "            \n",
    "        print(f'Epoch {epoch+1}, Accuracy: {accuracy(model(xt), yt)}')"
   ]
  },
  {
   "cell_type": "code",
   "execution_count": null,
   "metadata": {},
   "outputs": [
    {
     "name": "stdout",
     "output_type": "stream",
     "text": [
      "Epoch 1, Accuracy: 0.8959000110626221\n",
      "Epoch 2, Accuracy: 0.9216799736022949\n",
      "Epoch 3, Accuracy: 0.9330599904060364\n"
     ]
    }
   ],
   "source": [
    "fit(3, model, optim, CrossEntropy(), xt, yt)"
   ]
  },
  {
   "cell_type": "code",
   "execution_count": null,
   "metadata": {},
   "outputs": [],
   "source": [
    "#export\n",
    "def get_model(lr):\n",
    "    \"Easy helper function to get basic fully connected network with optimizer and loss function, takes learning rate, `lr`, as a parameter\"\n",
    "    model = SequentialModel(Linear(784, 50, True), ReLU(), Linear(50, 10, False)) \n",
    "    loss_func = CrossEntropy()\n",
    "    optimizer = Optimizer(model.parameters(), lr)\n",
    "    return model, optimizer, loss_func"
   ]
  },
  {
   "cell_type": "markdown",
   "metadata": {},
   "source": [
    "## Databunch"
   ]
  },
  {
   "cell_type": "code",
   "execution_count": null,
   "metadata": {},
   "outputs": [],
   "source": [
    "#export\n",
    "class Dataset():\n",
    "    \"Container class to store and get input and target values from a dataset\"\n",
    "    def __init__(self, x, y): self.x, self.y = x, y\n",
    "        \n",
    "    def __getitem__(self, i): return self.x[i], self.y[i]\n",
    "    \n",
    "    def __len__(self): return len(self.x)"
   ]
  },
  {
   "cell_type": "code",
   "execution_count": null,
   "metadata": {},
   "outputs": [],
   "source": [
    "class DataLoader():\n",
    "    \"Container class to iterate over a dataset given a batcht size\"\n",
    "    def __init__(self, ds, bs): \n",
    "        \"Provide a dataset, `ds`, and batchsize, `bs`\"\n",
    "        self.ds, self.bs = ds,bs\n",
    "    def __iter__(self): \n",
    "        for i in range(0, len(self.ds), self.bs): yield self.ds[i:i+self.bs]"
   ]
  },
  {
   "cell_type": "code",
   "execution_count": null,
   "metadata": {},
   "outputs": [],
   "source": [
    "ds = Dataset(xt, yt)\n",
    "dl = DataLoader(ds, bs)"
   ]
  },
  {
   "cell_type": "code",
   "execution_count": null,
   "metadata": {},
   "outputs": [],
   "source": [
    "def fit(epochs, model, optim, loss_func, data_loader):\n",
    "    \"Training Loop 3: Refactored out for easy databunch usage\"\n",
    "    for epoch in range(epochs):\n",
    "        for xb, yb in data_loader:\n",
    "            loss = loss_func(model(xb), yb)\n",
    "            loss_func.backward()\n",
    "            model.backward()\n",
    "            \n",
    "            optim.step()\n",
    "            optim.zero_grad()\n",
    "            \n",
    "        print(f'Epoch {epoch+1}, Accuracy: {accuracy(model(xt), yt)}')"
   ]
  },
  {
   "cell_type": "code",
   "execution_count": null,
   "metadata": {},
   "outputs": [
    {
     "name": "stdout",
     "output_type": "stream",
     "text": [
      "Epoch 1, Accuracy: 0.9178799986839294\n",
      "Epoch 2, Accuracy: 0.9384199976921082\n",
      "Epoch 3, Accuracy: 0.9474200010299683\n"
     ]
    }
   ],
   "source": [
    "m, o, lf = get_model(0.5)\n",
    "fit(3, m, o, lf, dl)"
   ]
  },
  {
   "cell_type": "markdown",
   "metadata": {},
   "source": [
    "## Random Data"
   ]
  },
  {
   "cell_type": "code",
   "execution_count": null,
   "metadata": {},
   "outputs": [],
   "source": [
    "#export\n",
    "class Batcher():\n",
    "    \"Wrapper for databunch class that randomizes each batch of output if `random` arg is set to trueu\"\n",
    "    def __init__(self, ds, bs, random): \n",
    "        self.n, self.bs, self.rand = len(ds), bs, random\n",
    "    def __iter__(self):\n",
    "        \"When iter is called, random batches of the dataset are created\"\n",
    "        self.idxs = torch.randperm(self.n) if self.rand else torch.arange(self.n)\n",
    "        for i in range(0, self.n, self.bs): yield self.idxs[i:i+self.bs]"
   ]
  },
  {
   "cell_type": "code",
   "execution_count": null,
   "metadata": {},
   "outputs": [],
   "source": [
    "small_ds = Dataset(*ds[:10])"
   ]
  },
  {
   "cell_type": "code",
   "execution_count": null,
   "metadata": {},
   "outputs": [],
   "source": [
    "random = Batcher(small_ds, 4, True)\n",
    "not_random = Batcher(small_ds, 4, False)"
   ]
  },
  {
   "cell_type": "code",
   "execution_count": null,
   "metadata": {},
   "outputs": [
    {
     "data": {
      "text/plain": [
       "[tensor([6, 5, 1, 7]), tensor([4, 3, 8, 2]), tensor([0, 9])]"
      ]
     },
     "execution_count": null,
     "metadata": {},
     "output_type": "execute_result"
    }
   ],
   "source": [
    "[r for r in random]"
   ]
  },
  {
   "cell_type": "code",
   "execution_count": null,
   "metadata": {},
   "outputs": [
    {
     "data": {
      "text/plain": [
       "[tensor([0, 1, 2, 3]), tensor([4, 5, 6, 7]), tensor([8, 9])]"
      ]
     },
     "execution_count": null,
     "metadata": {},
     "output_type": "execute_result"
    }
   ],
   "source": [
    "[nr for nr in not_random]"
   ]
  },
  {
   "cell_type": "code",
   "execution_count": null,
   "metadata": {},
   "outputs": [],
   "source": [
    "#export\n",
    "def collate(b):\n",
    "    \"Combines the input lists `b` into single inpuut and target tensors\"\n",
    "    xb, yb = zip(*b)\n",
    "    return torch.stack(xb), torch.stack(yb)\n",
    "    \n",
    "    \n",
    "class DataLoader():\n",
    "    \"Refactored DataLoader to include a batcher, also collates the output of batcher into single tensor for model\"\n",
    "    def __init__(self, ds, batcher, collate_fcn): self.ds, self.batcher, self.collate_fcn = ds, batcher, collate_fcn\n",
    "    def __iter__(self): \n",
    "        for b in self.batcher: yield self.collate_fcn([self.ds[i] for i in b])\n",
    "    def __len__(self): return len(self.ds)"
   ]
  },
  {
   "cell_type": "markdown",
   "metadata": {},
   "source": [
    "## Validation"
   ]
  },
  {
   "cell_type": "code",
   "execution_count": null,
   "metadata": {},
   "outputs": [],
   "source": [
    "#export\n",
    "def fit(epochs, model, optim, loss_func, train, valid):\n",
    "    \"Fit function 4: Added validation loops, model training status as well as printing of some metrics\"\n",
    "    for epoch in range(epochs):\n",
    "        \n",
    "        model.training = True\n",
    "        for xb, yb in train:\n",
    "            loss = loss_func(model(xb), yb)\n",
    "            loss_func.backward()\n",
    "            model.backward()\n",
    "            \n",
    "            optim.step()\n",
    "            optim.zero_grad()\n",
    "        \n",
    "        model.training = False\n",
    "        acc, loss, epochs = 0,0,0\n",
    "        for xb, yb in valid:\n",
    "            pred = model(xb)\n",
    "            acc += accuracy(pred, yb)\n",
    "            loss += loss_func(pred, yb)\n",
    "            epochs += 1\n",
    "        acc /= epochs\n",
    "        loss /= epochs\n",
    "            \n",
    "        print(f'Epoch {epoch+1}, Accuracy: {acc}, Loss: {loss}')"
   ]
  },
  {
   "cell_type": "code",
   "execution_count": null,
   "metadata": {},
   "outputs": [],
   "source": [
    "#export\n",
    "def get_datasets():\n",
    "    \"Helper function to return proper dataloaders\"\n",
    "    xt, yt, xv, yv = get_mnist()\n",
    "    tr = Dataset(xt, yt)\n",
    "    val = Dataset(xv, yv)\n",
    "    train = DataLoader(tr, Batcher(tr, 64, True), collate)\n",
    "    valid = DataLoader(val, Batcher(val, 64, False), collate)\n",
    "    return train, valid"
   ]
  },
  {
   "cell_type": "code",
   "execution_count": null,
   "metadata": {},
   "outputs": [
    {
     "name": "stdout",
     "output_type": "stream",
     "text": [
      "Epoch 1, Accuracy: 0.9465565085411072, Loss: 0.18650124967098236\n",
      "Epoch 2, Accuracy: 0.9217754602432251, Loss: 0.24221312999725342\n",
      "Epoch 3, Accuracy: 0.9668591022491455, Loss: 0.11605237424373627\n"
     ]
    }
   ],
   "source": [
    "train, valid = get_datasets()\n",
    "m, o, lf = get_model(0.1)\n",
    "fit(3, m, o, lf, train, valid)"
   ]
  },
  {
   "cell_type": "code",
   "execution_count": null,
   "metadata": {},
   "outputs": [],
   "source": []
  }
 ],
 "metadata": {
  "kernelspec": {
   "display_name": "Python 3",
   "language": "python",
   "name": "python3"
  }
 },
 "nbformat": 4,
 "nbformat_minor": 2
}
